{
 "cells": [
  {
   "cell_type": "code",
   "execution_count": null,
   "metadata": {},
   "outputs": [],
   "source": [
    "m=int(input())\n",
    "\n",
    "p=input()\n",
    "p=int(p)\n",
    "\n",
    "c=input()\n",
    "c=int(c)\n",
    "\n",
    "result = m>=70 and p>=60 and c>=60\n",
    "total = m+p+c >=180\n",
    "\n",
    "print(total)"
   ]
  }
 ],
 "metadata": {
  "language_info": {
   "name": "python"
  },
  "orig_nbformat": 4
 },
 "nbformat": 4,
 "nbformat_minor": 2
}
