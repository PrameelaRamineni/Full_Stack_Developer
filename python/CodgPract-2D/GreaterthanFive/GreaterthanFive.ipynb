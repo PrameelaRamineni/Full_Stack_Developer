{
 "cells": [
  {
   "cell_type": "code",
   "execution_count": null,
   "metadata": {},
   "outputs": [],
   "source": [
    "first=input()\n",
    "first=int(first)\n",
    "\n",
    "second=input()\n",
    "second=int(second)\n",
    "\n",
    "positive = (first > 0) and (second > 0)\n",
    "greater = (first > 5) or (second > 5)\n",
    "\n",
    "result= positive and greater\n",
    "\n",
    "print(result)"
   ]
  }
 ],
 "metadata": {
  "language_info": {
   "name": "python"
  },
  "orig_nbformat": 4
 },
 "nbformat": 4,
 "nbformat_minor": 2
}
