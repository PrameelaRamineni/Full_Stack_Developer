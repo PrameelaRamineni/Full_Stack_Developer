{
 "cells": [
  {
   "cell_type": "code",
   "execution_count": null,
   "metadata": {},
   "outputs": [],
   "source": [
    "A=int(input())\n",
    "B=input()\n",
    "\n",
    "if ((12<A<60)and(B==\"no\")or(B==\"yes\")):\n",
    "    print(\"True\")\n",
    "\n",
    "else:    \n",
    "    print(\"False\")"
   ]
  }
 ],
 "metadata": {
  "language_info": {
   "name": "python"
  },
  "orig_nbformat": 4
 },
 "nbformat": 4,
 "nbformat_minor": 2
}
