{
 "cells": [
  {
   "cell_type": "code",
   "execution_count": null,
   "metadata": {},
   "outputs": [],
   "source": [
    "\n",
    "#read a single line containing space-separated integer\n",
    "number=input(\"\").split(' ')\n",
    "primesum=0\n",
    "for n in number:\n",
    "    n=int(n)\n",
    "    is_prime=True\n",
    "    if n > 1:\n",
    "        for i in range(2, n):\n",
    "            if (n % i) == 0:\n",
    "                is_prime=False\n",
    "                break\n",
    "        if is_prime:\n",
    "            #calculate the sum of all prime numbers from 1 to N.\n",
    "            primesum=primesum+n\n",
    "\n",
    "#Display the result\n",
    "print(str(primesum))"
   ]
  }
 ],
 "metadata": {
  "language_info": {
   "name": "python"
  }
 },
 "nbformat": 4,
 "nbformat_minor": 2
}
