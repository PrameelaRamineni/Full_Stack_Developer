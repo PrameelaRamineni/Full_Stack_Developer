{
 "cells": [
  {
   "cell_type": "code",
   "execution_count": null,
   "metadata": {},
   "outputs": [],
   "source": [
    "word=input()\n",
    "swap=\"\"\n",
    "for character in word:\n",
    "  uppercase_char = character.upper()\n",
    "  if uppercase_char == character:\n",
    "    swap =swap + character.lower()\n",
    "  else:\n",
    "   swap = swap + character.upper()\n",
    "print(swap)"
   ]
  }
 ],
 "metadata": {
  "language_info": {
   "name": "python"
  },
  "orig_nbformat": 4
 },
 "nbformat": 4,
 "nbformat_minor": 2
}
