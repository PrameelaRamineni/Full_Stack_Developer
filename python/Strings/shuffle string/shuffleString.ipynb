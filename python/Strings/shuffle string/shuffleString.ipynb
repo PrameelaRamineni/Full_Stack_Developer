{
 "cells": [
  {
   "cell_type": "code",
   "execution_count": null,
   "metadata": {},
   "outputs": [],
   "source": [
    "word=input()\n",
    "\n",
    "length=len(word)\n",
    "\n",
    "shuffle=\"\"\n",
    "for number in range(length):\n",
    "    n=int(input())\n",
    "    shuffle=shuffle+word[n]\n",
    "print(shuffle)"
   ]
  }
 ],
 "metadata": {
  "language_info": {
   "name": "python"
  },
  "orig_nbformat": 4
 },
 "nbformat": 4,
 "nbformat_minor": 2
}
