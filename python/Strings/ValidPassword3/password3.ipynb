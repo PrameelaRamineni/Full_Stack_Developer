{
 "cells": [
  {
   "cell_type": "code",
   "execution_count": null,
   "metadata": {},
   "outputs": [],
   "source": [
    "password = input()\n",
    "\n",
    "contains_digit = False\n",
    "\n",
    "for character in password:\n",
    "    is_digit = character.isdigit()\n",
    "\n",
    "if is_digit:\n",
    "    contains_digit = True\n",
    "\n",
    "is_all_lower = (password.lower() == password)\n",
    "is_all_upper = (password.upper() == password)\n",
    "\n",
    "contains_lower_and_upper = (not is_all_lower) and (not is_all_upper)\n",
    "\n",
    "is_valid_password = (contains_digit and contains_lower_and_upper)\n",
    "\n",
    "if is_valid_password:\n",
    "    print(\"Valid Password\")\n",
    "\n",
    "else:\n",
    "    print(\"Invalid Password\")\n"
   ]
  }
 ],
 "metadata": {
  "language_info": {
   "name": "python"
  },
  "orig_nbformat": 4
 },
 "nbformat": 4,
 "nbformat_minor": 2
}
