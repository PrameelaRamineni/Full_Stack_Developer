{
 "cells": [
  {
   "cell_type": "code",
   "execution_count": null,
   "metadata": {},
   "outputs": [],
   "source": [
    "str=input()\n",
    "leng=len(str)\n",
    "res=str[0]\n",
    "\n",
    "for i in range(1,leng):\n",
    "    char=str[i]\n",
    "    upper=char.upper()\n",
    "    lower=char.lower()\n",
    "    \n",
    "    if char==upper:\n",
    "        res=res+\"-\"+lower\n",
    "    else:\n",
    "        res=res+char\n",
    "print(res)        "
   ]
  }
 ],
 "metadata": {
  "language_info": {
   "name": "python"
  },
  "orig_nbformat": 4
 },
 "nbformat": 4,
 "nbformat_minor": 2
}
