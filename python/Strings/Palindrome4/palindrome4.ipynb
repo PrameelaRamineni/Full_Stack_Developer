{
 "cells": [
  {
   "cell_type": "code",
   "execution_count": null,
   "metadata": {},
   "outputs": [],
   "source": [
    "a=input()\n",
    "a=a.lower()\n",
    "a = a.replace(\" \",\"\") \n",
    "a = a.replace(\"'\",\"\") \n",
    "rev=\"\"\n",
    "\n",
    "for i in a:\n",
    "    rev = i + rev\n",
    "  \n",
    "if a==rev:\n",
    "    print (\"True\")\n",
    "\n",
    "else:\n",
    "    print(\"False\")"
   ]
  }
 ],
 "metadata": {
  "language_info": {
   "name": "python"
  },
  "orig_nbformat": 4
 },
 "nbformat": 4,
 "nbformat_minor": 2
}
