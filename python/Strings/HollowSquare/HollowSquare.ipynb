{
 "cells": [
  {
   "cell_type": "code",
   "execution_count": null,
   "metadata": {},
   "outputs": [],
   "source": [
    "n=int(input())\n",
    "\n",
    "hyphens=\"- \"*n \n",
    "f_row=\"+ \"+hyphens+\"+\"\n",
    "l_row=\"+ \"+hyphens+\"+\"\n",
    "\n",
    "print(f_row)\n",
    "\n",
    "for i in range(n):\n",
    "    spaces=\"  \"*n \n",
    "    rows=\"| \"+spaces+\"|\"\n",
    "    print(rows)\n",
    "print(l_row)    \n"
   ]
  }
 ],
 "metadata": {
  "language_info": {
   "name": "python"
  },
  "orig_nbformat": 4
 },
 "nbformat": 4,
 "nbformat_minor": 2
}
