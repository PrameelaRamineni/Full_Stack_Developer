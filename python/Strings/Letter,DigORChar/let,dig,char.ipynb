{
 "cells": [
  {
   "cell_type": "code",
   "execution_count": null,
   "metadata": {},
   "outputs": [],
   "source": [
    "n=input()\n",
    "\n",
    "for ch in n:\n",
    "    if (ch.isdigit()):        \n",
    "        print(\"Digit\")\n",
    "    elif (ch.islower()):\n",
    "        print(\"Lowercase Letter\")\n",
    "    elif (ch.isupper()):\n",
    "        print(\"Uppercase Letter\")\n",
    "   \n",
    "    else: \n",
    "         print(\"Special Character\")"
   ]
  }
 ],
 "metadata": {
  "language_info": {
   "name": "python"
  },
  "orig_nbformat": 4
 },
 "nbformat": 4,
 "nbformat_minor": 2
}
