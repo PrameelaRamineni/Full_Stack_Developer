{
 "cells": [
  {
   "cell_type": "code",
   "execution_count": null,
   "metadata": {},
   "outputs": [],
   "source": [
    "s=input()\n",
    "r=True \n",
    "\n",
    "for i in s:\n",
    "    if i.isalpha():\n",
    "        r=True\n",
    "    elif i.isdigit():\n",
    "        r=True\n",
    "    else:\n",
    "        r=False\n",
    "        break\n",
    "print(r)    "
   ]
  }
 ],
 "metadata": {
  "language_info": {
   "name": "python"
  },
  "orig_nbformat": 4
 },
 "nbformat": 4,
 "nbformat_minor": 2
}
