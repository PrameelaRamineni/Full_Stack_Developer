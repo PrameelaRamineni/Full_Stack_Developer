{
 "cells": [
  {
   "cell_type": "code",
   "execution_count": null,
   "metadata": {},
   "outputs": [],
   "source": [
    "word= input()\n",
    "vow = ('a','e','i','o','u')\n",
    "\n",
    "for i in word:\n",
    "    if i.lower() in vow: \n",
    "        word = word.replace(i,\"\") \n",
    "print(word) "
   ]
  }
 ],
 "metadata": {
  "language_info": {
   "name": "python"
  },
  "orig_nbformat": 4
 },
 "nbformat": 4,
 "nbformat_minor": 2
}
