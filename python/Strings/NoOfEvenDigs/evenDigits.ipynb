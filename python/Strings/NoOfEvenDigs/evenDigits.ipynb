{
 "cells": [
  {
   "cell_type": "code",
   "execution_count": null,
   "metadata": {},
   "outputs": [],
   "source": [
    "n=input()\n",
    "\n",
    "count=0\n",
    "\n",
    "for num in n:\n",
    "    num=int(num)\n",
    "    if num%2==0:\n",
    "        count=count+1 \n",
    "        \n",
    "if count>2:\n",
    "    print(\"Count of even digits is greater than two\")\n",
    "else:\n",
    "    print(\"Count of even digits is not greater than two\")"
   ]
  }
 ],
 "metadata": {
  "language_info": {
   "name": "python"
  },
  "orig_nbformat": 4
 },
 "nbformat": 4,
 "nbformat_minor": 2
}
