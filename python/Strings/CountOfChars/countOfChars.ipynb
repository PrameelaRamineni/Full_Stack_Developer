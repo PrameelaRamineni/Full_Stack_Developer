{
 "cells": [
  {
   "cell_type": "code",
   "execution_count": null,
   "metadata": {},
   "outputs": [],
   "source": [
    "s=input()\n",
    "n=int(input())\n",
    "\n",
    "count=0 \n",
    "\n",
    "for i in s:\n",
    "    if ord(i)==n:\n",
    "        count=count+1 \n",
    "print(count)        \n"
   ]
  }
 ],
 "metadata": {
  "language_info": {
   "name": "python"
  },
  "orig_nbformat": 4
 },
 "nbformat": 4,
 "nbformat_minor": 2
}
