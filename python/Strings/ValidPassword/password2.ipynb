{
 "cells": [
  {
   "cell_type": "code",
   "execution_count": null,
   "metadata": {},
   "outputs": [],
   "source": [
    "word=input()\n",
    "\n",
    "contains_digit = False\n",
    "\n",
    "for char in word:\n",
    "    is_digit = char.isdigit()\n",
    "\n",
    "if is_digit:\n",
    "    contains_digit = True\n",
    "if contains_digit:\n",
    "    print(\"Valid Password\")\n",
    "else:\n",
    "    print(\"Invalid Password\")\n"
   ]
  }
 ],
 "metadata": {
  "language_info": {
   "name": "python"
  },
  "orig_nbformat": 4
 },
 "nbformat": 4,
 "nbformat_minor": 2
}
