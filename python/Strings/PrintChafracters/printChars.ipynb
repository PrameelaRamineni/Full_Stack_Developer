{
 "cells": [
  {
   "cell_type": "code",
   "execution_count": null,
   "metadata": {},
   "outputs": [],
   "source": [
    "str=input()\n",
    "\n",
    "leng=len(str)\n",
    "\n",
    "for i in range(leng):\n",
    "    chars=int(input())\n",
    "    print(str[chars])"
   ]
  }
 ],
 "metadata": {
  "language_info": {
   "name": "python"
  },
  "orig_nbformat": 4
 },
 "nbformat": 4,
 "nbformat_minor": 2
}
