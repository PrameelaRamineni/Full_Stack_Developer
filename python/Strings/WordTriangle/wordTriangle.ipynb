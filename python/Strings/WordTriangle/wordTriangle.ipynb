{
 "cells": [
  {
   "cell_type": "code",
   "execution_count": null,
   "metadata": {},
   "outputs": [],
   "source": [
    "w=input()\n",
    "\n",
    "leng=len(w)\n",
    "\n",
    "for i in range(leng):\n",
    "    print(w[:leng])\n",
    "    leng=leng-1"
   ]
  }
 ],
 "metadata": {
  "language_info": {
   "name": "python"
  },
  "orig_nbformat": 4
 },
 "nbformat": 4,
 "nbformat_minor": 2
}
