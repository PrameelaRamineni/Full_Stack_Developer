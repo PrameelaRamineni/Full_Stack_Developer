{
 "cells": [
  {
   "cell_type": "code",
   "execution_count": null,
   "metadata": {},
   "outputs": [],
   "source": [
    "s=input()\n",
    "\n",
    "char=s[0]\n",
    "\n",
    "for i in range(1,len(s)):\n",
    "    if ord(s[i])<ord(char):\n",
    "        char=s[i]\n",
    "print(char)        "
   ]
  }
 ],
 "metadata": {
  "language_info": {
   "name": "python"
  },
  "orig_nbformat": 4
 },
 "nbformat": 4,
 "nbformat_minor": 2
}
