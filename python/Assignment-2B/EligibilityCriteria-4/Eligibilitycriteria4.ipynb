{
 "cells": [
  {
   "cell_type": "code",
   "execution_count": null,
   "metadata": {},
   "outputs": [],
   "source": [
    "m=int(input())\n",
    "p=int(input())\n",
    "c=int(input())\n",
    "\n",
    "result=(m >= 60 and p >=50 and c >= 45) and (m + p + c >= 180)\n",
    "total=(m+p >=120) or (c+p >=110)\n",
    "\n",
    "print(total)"
   ]
  }
 ],
 "metadata": {
  "language_info": {
   "name": "python"
  },
  "orig_nbformat": 4
 },
 "nbformat": 4,
 "nbformat_minor": 2
}
