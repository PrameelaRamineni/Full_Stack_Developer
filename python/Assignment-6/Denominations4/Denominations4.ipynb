{
 "cells": [
  {
   "cell_type": "code",
   "execution_count": null,
   "metadata": {},
   "outputs": [],
   "source": [
    "amount=int(input())\n",
    "\n",
    "note_100=0 \n",
    "note_50=0 \n",
    "note_20=0 \n",
    "note_10=0\n",
    "\n",
    "if amount>=100:\n",
    "    note_100=int(amount/100)\n",
    "    amount=(amount%100)\n",
    "    \n",
    "if amount>=50:\n",
    "    note_50=int(amount/50)\n",
    "    amount=(amount%50)\n",
    "    \n",
    "if amount>=20:\n",
    "    note_20=int(amount/20)\n",
    "    amount=(amount%20)\n",
    "    \n",
    "if amount>=10:\n",
    "    note_10=int(amount/10)\n",
    "    amount=(amount%10)    \n",
    "    \n",
    "\n",
    "print(\"100 Notes: \" + str(note_100))\n",
    "print(\"50 Notes: \" + str(note_50))\n",
    "print(\"20 Notes: \" + str(note_20))\n",
    "print(\"10 Notes: \" + str(note_10))\n"
   ]
  }
 ],
 "metadata": {
  "language_info": {
   "name": "python"
  },
  "orig_nbformat": 4
 },
 "nbformat": 4,
 "nbformat_minor": 2
}
