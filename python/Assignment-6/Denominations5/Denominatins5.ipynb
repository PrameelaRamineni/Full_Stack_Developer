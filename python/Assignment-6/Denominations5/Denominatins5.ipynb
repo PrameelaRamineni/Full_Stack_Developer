{
 "cells": [
  {
   "cell_type": "code",
   "execution_count": null,
   "metadata": {},
   "outputs": [],
   "source": [
    "amount=int(input())\n",
    "\n",
    "note_2000=0 \n",
    "note_500=0 \n",
    "note_200=0 \n",
    "note_50=0\n",
    "note_20=0 \n",
    "note_5=0 \n",
    "note_2=0 \n",
    "noit_1=0\n",
    "\n",
    "if amount>=2000:\n",
    "    note_2000=int(amount/2000)\n",
    "    amount=(amount%2000)\n",
    "    \n",
    "if amount>=500:\n",
    "    note_500=int(amount/500)\n",
    "    amount=(amount%500)\n",
    "    \n",
    "if amount>=200:\n",
    "    note_200=int(amount/200)\n",
    "    amount=(amount%200)\n",
    "    \n",
    "if amount>=50:\n",
    "    note_50=int(amount/50)\n",
    "    amount=(amount%50)\n",
    "    \n",
    "if amount>=20:\n",
    "    note_20=int(amount/20)\n",
    "    amount=(amount%20)\n",
    "    \n",
    "if amount>=5:\n",
    "    note_5=int(amount/5)\n",
    "    amount=(amount%5)\n",
    "    \n",
    "if amount>=2:\n",
    "    note_2=int(amount/2)\n",
    "    amount=(amount%2) \n",
    "   \n",
    "note_1=amount\n",
    "print((\"2000:\" + str(note_2000))+\" \"+ (\"500:\" + str(note_500))+\" \"+ (\"200:\" + str(note_200))+\" \"+ \n",
    "(\"50:\" + str(note_50))+\" \"+ (\"20:\" + str(note_20))+\" \"+ (\"5:\" + str(note_5))+\" \"+ \n",
    "(\"2:\" + str(note_2))+\" \"+ (\"1:\" + str(note_1)))\n",
    "\n"
   ]
  }
 ],
 "metadata": {
  "language_info": {
   "name": "python"
  },
  "orig_nbformat": 4
 },
 "nbformat": 4,
 "nbformat_minor": 2
}
