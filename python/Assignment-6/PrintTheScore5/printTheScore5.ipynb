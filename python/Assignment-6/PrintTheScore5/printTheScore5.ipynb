{
 "cells": [
  {
   "cell_type": "code",
   "execution_count": null,
   "metadata": {},
   "outputs": [],
   "source": [
    "D=int(input())\n",
    "\n",
    "if D<=50:\n",
    "    score=3*D \n",
    "elif D<=100:\n",
    "    score=150+5*(D-50)\n",
    "elif D<=200:\n",
    "    score=400+6*(D-100)\n",
    "else:\n",
    "    score=1000+10*(D-200)\n",
    "score+=100 \n",
    "print(score)"
   ]
  }
 ],
 "metadata": {
  "language_info": {
   "name": "python"
  },
  "orig_nbformat": 4
 },
 "nbformat": 4,
 "nbformat_minor": 2
}
