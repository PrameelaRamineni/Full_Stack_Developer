{
 "cells": [
  {
   "cell_type": "code",
   "execution_count": null,
   "metadata": {},
   "outputs": [],
   "source": [
    "len_of_rec=int(input())\n",
    "bre_of_rec=int(input())\n",
    "area_of_rec=len_of_rec*bre_of_rec\n",
    "peri_of_rec=2*(len_of_rec+bre_of_rec)\n",
    "if area_of_rec<=peri_of_rec:\n",
    "    print(\"True\")\n",
    "else:\n",
    "    print(\"False\")"
   ]
  }
 ],
 "metadata": {
  "language_info": {
   "name": "python"
  },
  "orig_nbformat": 4
 },
 "nbformat": 4,
 "nbformat_minor": 2
}
