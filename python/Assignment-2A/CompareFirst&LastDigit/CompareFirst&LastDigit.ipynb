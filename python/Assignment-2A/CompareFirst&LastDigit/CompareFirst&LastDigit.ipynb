{
 "cells": [
  {
   "cell_type": "code",
   "execution_count": null,
   "metadata": {},
   "outputs": [],
   "source": [
    "a=input()\n",
    "b=input()\n",
    "print(a[0]<b[-1])"
   ]
  }
 ],
 "metadata": {
  "language_info": {
   "name": "python"
  },
  "orig_nbformat": 4
 },
 "nbformat": 4,
 "nbformat_minor": 2
}
