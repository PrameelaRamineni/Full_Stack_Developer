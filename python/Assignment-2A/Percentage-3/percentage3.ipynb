{
 "cells": [
  {
   "cell_type": "code",
   "execution_count": null,
   "metadata": {},
   "outputs": [],
   "source": [
    "p=int(input())\n",
    "n=int(input())\n",
    "v=(p/100)*500 \n",
    "\n",
    "if v==n:\n",
    "    print(\"True\")\n",
    "else:\n",
    "    print(\"False\")"
   ]
  }
 ],
 "metadata": {
  "language_info": {
   "name": "python"
  },
  "orig_nbformat": 4
 },
 "nbformat": 4,
 "nbformat_minor": 2
}
