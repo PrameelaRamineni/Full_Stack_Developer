{
 "cells": [
  {
   "cell_type": "code",
   "execution_count": null,
   "metadata": {},
   "outputs": [],
   "source": [
    "first=input()\n",
    "n=int(input())\n",
    "word1=first[0:n]\n",
    "#print(word1)\n",
    "\n",
    "length=len(first)\n",
    "word2=first[length-n:length]\n",
    "#print(word2)\n",
    "\n",
    "if word1==word2:\n",
    "    print(\"False\")\n",
    "else:\n",
    "    print(\"True\")"
   ]
  }
 ],
 "metadata": {
  "language_info": {
   "name": "python"
  },
  "orig_nbformat": 4
 },
 "nbformat": 4,
 "nbformat_minor": 2
}
