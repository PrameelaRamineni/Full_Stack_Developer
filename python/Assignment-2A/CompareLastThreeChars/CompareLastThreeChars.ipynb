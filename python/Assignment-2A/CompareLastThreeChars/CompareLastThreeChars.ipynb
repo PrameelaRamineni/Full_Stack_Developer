{
 "cells": [
  {
   "cell_type": "code",
   "execution_count": null,
   "metadata": {},
   "outputs": [],
   "source": [
    "first=input()\n",
    "second=input()\n",
    "\n",
    "first=first[-3:]\n",
    "second=second[-3:]\n",
    "\n",
    "result=(first == second)\n",
    "\n",
    "print(result)\n"
   ]
  }
 ],
 "metadata": {
  "language_info": {
   "name": "python"
  },
  "orig_nbformat": 4
 },
 "nbformat": 4,
 "nbformat_minor": 2
}
