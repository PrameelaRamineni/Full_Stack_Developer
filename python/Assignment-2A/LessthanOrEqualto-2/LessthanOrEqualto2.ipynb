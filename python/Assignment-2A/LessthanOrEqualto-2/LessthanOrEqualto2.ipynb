{
 "cells": [
  {
   "cell_type": "code",
   "execution_count": null,
   "metadata": {},
   "outputs": [],
   "source": [
    "A=int(input())\n",
    "B=int(input())\n",
    "if A==B:\n",
    "    print(\"A <= B is True\")\n",
    "    print(\"B <= A is True\")\n",
    "elif B<=A:\n",
    "    print(\"A <= B is False\")\n",
    "    print(\"B <= A is True\")\n",
    "elif A<=B:\n",
    "    print(\"A <= B is True\")\n",
    "    print(\"B <= A is False\")"
   ]
  }
 ],
 "metadata": {
  "language_info": {
   "name": "python"
  },
  "orig_nbformat": 4
 },
 "nbformat": 4,
 "nbformat_minor": 2
}
