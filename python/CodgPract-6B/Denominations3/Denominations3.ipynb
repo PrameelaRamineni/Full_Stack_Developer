{
 "cells": [
  {
   "cell_type": "code",
   "execution_count": null,
   "metadata": {},
   "outputs": [],
   "source": [
    "amount=int(input())\n",
    "\n",
    "note_500=0 \n",
    "note_50=0 \n",
    "note_10=0 \n",
    "note_1=0\n",
    "\n",
    "if amount>=500:\n",
    "    note_500=int(amount/500)\n",
    "    amount=(amount%500)\n",
    "    \n",
    "if amount>=50:\n",
    "    note_50=int(amount/50)\n",
    "    amount=(amount%50)\n",
    "    \n",
    "if amount>=10:\n",
    "    note_10=int(amount/10)\n",
    "    amount=(amount%10)    \n",
    "    \n",
    "note_1=amount\n",
    "print((\"500: \" + str(note_500))+\" \"+\n",
    "(\"50: \" + str(note_50))+\" \"+\n",
    "(\"10: \" + str(note_10))+\" \"+\n",
    "(\"1: \" + str(note_1)))\n"
   ]
  }
 ],
 "metadata": {
  "language_info": {
   "name": "python"
  },
  "orig_nbformat": 4
 },
 "nbformat": 4,
 "nbformat_minor": 2
}
