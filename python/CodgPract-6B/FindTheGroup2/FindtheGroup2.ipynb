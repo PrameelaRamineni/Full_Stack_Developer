{
 "cells": [
  {
   "cell_type": "code",
   "execution_count": null,
   "metadata": {},
   "outputs": [],
   "source": [
    "N=int(input())\n",
    "\n",
    "rem=N%6\n",
    "\n",
    "if rem==1:\n",
    "    print(\"Group 1\")\n",
    "elif rem==2:\n",
    "    print(\"Group 2\")\n",
    "elif rem==3:\n",
    "    print(\"Group 3\")\n",
    "elif rem==4:\n",
    "    print(\"Group 4\")\n",
    "elif rem==5:\n",
    "    print(\"Group 5\")\n",
    "else:\n",
    "    print(\"Group 6\")    "
   ]
  }
 ],
 "metadata": {
  "language_info": {
   "name": "python"
  },
  "orig_nbformat": 4
 },
 "nbformat": 4,
 "nbformat_minor": 2
}
