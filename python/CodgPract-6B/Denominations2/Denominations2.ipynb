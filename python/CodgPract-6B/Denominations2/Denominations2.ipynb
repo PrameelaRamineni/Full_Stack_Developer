{
 "cells": [
  {
   "cell_type": "code",
   "execution_count": null,
   "metadata": {},
   "outputs": [],
   "source": [
    "amount=int(input())\n",
    "\n",
    "note_100=0 \n",
    "note_50=0 \n",
    "note_10=0 \n",
    "note_1=0\n",
    "\n",
    "if amount>=100:\n",
    "    note_100=int(amount/100)\n",
    "    amount=(amount%100)\n",
    "    \n",
    "if amount>=50:\n",
    "    note_50=int(amount/50)\n",
    "    amount=(amount%50)\n",
    "    \n",
    "if amount>=10:\n",
    "    note_10=int(amount/10)\n",
    "    amount=(amount%10)\n",
    "    \n",
    "note_1=amount\n",
    "print(\"100:\" + str(note_100))\n",
    "print(\"50:\" + str(note_50))\n",
    "print(\"10:\" + str(note_10))\n",
    "print(\"1:\" + str(note_1))\n"
   ]
  }
 ],
 "metadata": {
  "language_info": {
   "name": "python"
  },
  "orig_nbformat": 4
 },
 "nbformat": 4,
 "nbformat_minor": 2
}
