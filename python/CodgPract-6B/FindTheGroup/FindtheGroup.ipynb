{
 "cells": [
  {
   "cell_type": "code",
   "execution_count": null,
   "metadata": {},
   "outputs": [],
   "source": [
    "N=int(input())\n",
    "\n",
    "rem=N%2\n",
    "\n",
    "if rem==1:\n",
    "    print(\"Group A\")\n",
    "else:\n",
    "    print(\"Group B\")"
   ]
  }
 ],
 "metadata": {
  "language_info": {
   "name": "python"
  },
  "orig_nbformat": 4
 },
 "nbformat": 4,
 "nbformat_minor": 2
}
