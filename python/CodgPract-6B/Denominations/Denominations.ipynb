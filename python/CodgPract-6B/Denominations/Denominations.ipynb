{
 "cells": [
  {
   "cell_type": "code",
   "execution_count": null,
   "metadata": {},
   "outputs": [],
   "source": [
    "A=int(input())\n",
    "\n",
    "note_5=A/5 \n",
    "note_5=int(note_5)\n",
    "note_1=A%5 \n",
    "\n",
    "print(\"5:\"+str(note_5))\n",
    "print(\"1:\"+str(note_1))"
   ]
  }
 ],
 "metadata": {
  "language_info": {
   "name": "python"
  },
  "orig_nbformat": 4
 },
 "nbformat": 4,
 "nbformat_minor": 2
}
