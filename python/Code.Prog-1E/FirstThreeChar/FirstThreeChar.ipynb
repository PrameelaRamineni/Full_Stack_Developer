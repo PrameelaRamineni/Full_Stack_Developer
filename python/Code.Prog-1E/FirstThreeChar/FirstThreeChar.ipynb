{
 "cells": [
  {
   "cell_type": "code",
   "execution_count": null,
   "metadata": {},
   "outputs": [],
   "source": [
    "name=input()\n",
    "word=name[:3]\n",
    "print(word)"
   ]
  }
 ],
 "metadata": {
  "language_info": {
   "name": "python"
  },
  "orig_nbformat": 4
 },
 "nbformat": 4,
 "nbformat_minor": 2
}
