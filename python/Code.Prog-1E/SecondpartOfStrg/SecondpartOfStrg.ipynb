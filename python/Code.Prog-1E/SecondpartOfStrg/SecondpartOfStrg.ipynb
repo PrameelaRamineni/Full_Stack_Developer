{
 "cells": [
  {
   "cell_type": "code",
   "execution_count": null,
   "metadata": {},
   "outputs": [],
   "source": [
    "string1 = input()\n",
    "n = int(len(string1))\n",
    "string2 = string1[2:n]\n",
    "print(string2)\n"
   ]
  }
 ],
 "metadata": {
  "language_info": {
   "name": "python"
  },
  "orig_nbformat": 4
 },
 "nbformat": 4,
 "nbformat_minor": 2
}
