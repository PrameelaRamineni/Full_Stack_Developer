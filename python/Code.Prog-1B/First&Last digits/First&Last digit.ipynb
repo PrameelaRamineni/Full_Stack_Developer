{
 "cells": [
  {
   "cell_type": "code",
   "execution_count": null,
   "metadata": {},
   "outputs": [],
   "source": [
    "N=input()\n",
    "N=int(N)\n",
    "\n",
    "first=N[0]\n",
    "last=N[3]\n",
    "\n",
    "print(first)\n",
    "print(last)"
   ]
  }
 ],
 "metadata": {
  "language_info": {
   "name": "python"
  },
  "orig_nbformat": 4
 },
 "nbformat": 4,
 "nbformat_minor": 2
}
