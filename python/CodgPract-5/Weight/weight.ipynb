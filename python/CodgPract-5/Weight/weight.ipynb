{
 "cells": [
  {
   "cell_type": "code",
   "execution_count": null,
   "metadata": {},
   "outputs": [],
   "source": [
    "w=int(input())\n",
    "\n",
    "if w>=100:\n",
    "    print(\"Box is Heavier\")\n",
    "elif w>=30:\n",
    "    print(\"Box is Heavy\")"
   ]
  }
 ],
 "metadata": {
  "language_info": {
   "name": "python"
  },
  "orig_nbformat": 4
 },
 "nbformat": 4,
 "nbformat_minor": 2
}
