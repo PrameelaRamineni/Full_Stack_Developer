{
 "cells": [
  {
   "cell_type": "code",
   "execution_count": null,
   "metadata": {},
   "outputs": [],
   "source": [
    "units=int(input())\n",
    "bill=0\n",
    "\n",
    "if (units<=50):\n",
    "    bill=2*units\n",
    "elif units<150:\n",
    "    bill=(2*50)+(3*(units-50))\n",
    "elif units<250:\n",
    "    bill=(2*50)+(3*100)+(5*(units-150))\n",
    "elif units>=250:\n",
    "    bill=(2*50)+(3*100)+(5*100)+(8*(units-250))\n",
    "surcharge=(0.2*bill)\n",
    "total=(bill+surcharge)\n",
    "print(total)"
   ]
  }
 ],
 "metadata": {
  "language_info": {
   "name": "python"
  },
  "orig_nbformat": 4
 },
 "nbformat": 4,
 "nbformat_minor": 2
}
