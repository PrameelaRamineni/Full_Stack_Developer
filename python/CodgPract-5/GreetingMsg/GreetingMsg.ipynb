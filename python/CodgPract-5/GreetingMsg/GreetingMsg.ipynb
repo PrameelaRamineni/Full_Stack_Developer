{
 "cells": [
  {
   "cell_type": "code",
   "execution_count": null,
   "metadata": {},
   "outputs": [],
   "source": [
    "time=int(input())\n",
    "\n",
    "if (time >=4 and time < 12):\n",
    "    print(\"Good Morning\")\n",
    "elif (time >=12 and time < 16):\n",
    "    print(\"Good Afternoon\")\n",
    "elif (time >=16 and time < 20):\n",
    "    print(\"Good Evening\")\n",
    "elif (time >=20 or time < 4):\n",
    "    print(\"Good Night\")    \n",
    "    "
   ]
  }
 ],
 "metadata": {
  "language_info": {
   "name": "python"
  },
  "orig_nbformat": 4
 },
 "nbformat": 4,
 "nbformat_minor": 2
}
