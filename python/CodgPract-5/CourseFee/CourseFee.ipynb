{
 "cells": [
  {
   "cell_type": "code",
   "execution_count": null,
   "metadata": {},
   "outputs": [],
   "source": [
    "m=int(input())\n",
    "\n",
    "if m>=90:\n",
    "    print(\"Discount is 200\")\n",
    "elif m>=50:\n",
    "    print(\"Discount is 100\")\n",
    "else:\n",
    "    print(\"No Discount\")"
   ]
  }
 ],
 "metadata": {
  "language_info": {
   "name": "python"
  },
  "orig_nbformat": 4
 },
 "nbformat": 4,
 "nbformat_minor": 2
}
