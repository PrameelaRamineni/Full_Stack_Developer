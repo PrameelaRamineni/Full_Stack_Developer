{
 "cells": [
  {
   "cell_type": "code",
   "execution_count": null,
   "metadata": {},
   "outputs": [],
   "source": [
    "num=int(input())\n",
    "\n",
    "if num<3:\n",
    "    print(\"Not Polygon\")\n",
    "elif num==3:\n",
    "    print(\"Triangle\")\n",
    "elif num==4:\n",
    "    print(\"Quadrilateral\")\n",
    "elif num==5:\n",
    "    print(\"Pentagon\")\n",
    "elif num>5:\n",
    "    print(\"Big Polygon\")"
   ]
  }
 ],
 "metadata": {
  "language_info": {
   "name": "python"
  },
  "orig_nbformat": 4
 },
 "nbformat": 4,
 "nbformat_minor": 2
}
