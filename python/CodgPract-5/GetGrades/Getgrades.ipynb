{
 "cells": [
  {
   "cell_type": "code",
   "execution_count": null,
   "metadata": {},
   "outputs": [],
   "source": [
    "num=float(input())\n",
    "if num>85:\n",
    "    print(\"A\")\n",
    "elif (num>70 and num<=85):\n",
    "    print(\"B\")\n",
    "elif (num>=60 and num<=70):\n",
    "    print(\"C\")\n",
    "elif num<60:\n",
    "    print(\"F\")"
   ]
  }
 ],
 "metadata": {
  "language_info": {
   "name": "python"
  },
  "orig_nbformat": 4
 },
 "nbformat": 4,
 "nbformat_minor": 2
}
