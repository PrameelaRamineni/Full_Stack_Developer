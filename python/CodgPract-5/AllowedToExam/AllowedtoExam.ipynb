{
 "cells": [
  {
   "cell_type": "code",
   "execution_count": null,
   "metadata": {},
   "outputs": [],
   "source": [
    "H=input()\n",
    "I=input()\n",
    "\n",
    "if (H==\"Y\"):\n",
    "    print(\"Allowed to Exam - Has Hall ticket\")\n",
    "elif (H!=\"Y\")and(I==\"Y\"):\n",
    "    print(\"Allowed to Exam - Has Identification Card\")"
   ]
  }
 ],
 "metadata": {
  "language_info": {
   "name": "python"
  },
  "orig_nbformat": 4
 },
 "nbformat": 4,
 "nbformat_minor": 2
}
