{
 "cells": [
  {
   "cell_type": "code",
   "execution_count": null,
   "metadata": {},
   "outputs": [],
   "source": [
    "R=int(input())\n",
    "\n",
    "if R<=3:\n",
    "    print(\"One of Top 3\")\n",
    "elif R<=10:\n",
    "    print(\"Not Top 3 but One of Top 10\")"
   ]
  }
 ],
 "metadata": {
  "language_info": {
   "name": "python"
  },
  "orig_nbformat": 4
 },
 "nbformat": 4,
 "nbformat_minor": 2
}
