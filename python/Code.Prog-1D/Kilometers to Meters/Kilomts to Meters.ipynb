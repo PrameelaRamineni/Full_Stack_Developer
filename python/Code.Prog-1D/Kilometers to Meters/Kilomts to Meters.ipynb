{
 "cells": [
  {
   "cell_type": "code",
   "execution_count": null,
   "metadata": {},
   "outputs": [],
   "source": [
    "km=input()\n",
    "km=float(km)\n",
    "\n",
    "m = km * 1000\n",
    "m=int(m)\n",
    "\n",
    "print( m)"
   ]
  }
 ],
 "metadata": {
  "language_info": {
   "name": "python"
  },
  "orig_nbformat": 4
 },
 "nbformat": 4,
 "nbformat_minor": 2
}
