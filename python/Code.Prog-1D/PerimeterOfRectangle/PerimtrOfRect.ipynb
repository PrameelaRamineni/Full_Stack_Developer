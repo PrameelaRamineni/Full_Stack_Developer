{
 "cells": [
  {
   "cell_type": "code",
   "execution_count": null,
   "metadata": {},
   "outputs": [],
   "source": [
    "lor=input()\n",
    "bor=input()\n",
    "\n",
    "lor=int(lor)\n",
    "bor=int(bor)\n",
    "\n",
    "POR = 2 * (lor + bor)\n",
    "\n",
    "print(POR)"
   ]
  }
 ],
 "metadata": {
  "language_info": {
   "name": "python"
  },
  "orig_nbformat": 4
 },
 "nbformat": 4,
 "nbformat_minor": 2
}
