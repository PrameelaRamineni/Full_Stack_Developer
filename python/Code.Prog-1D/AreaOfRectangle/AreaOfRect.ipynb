{
 "cells": [
  {
   "cell_type": "code",
   "execution_count": null,
   "metadata": {},
   "outputs": [],
   "source": [
    "lor=input()\n",
    "bor=input()\n",
    "\n",
    "lor=int(lor)\n",
    "bor=int(bor)\n",
    "\n",
    "AOR =lor * bor\n",
    "\n",
    "print(AOR)"
   ]
  }
 ],
 "metadata": {
  "language_info": {
   "name": "python"
  },
  "orig_nbformat": 4
 },
 "nbformat": 4,
 "nbformat_minor": 2
}
