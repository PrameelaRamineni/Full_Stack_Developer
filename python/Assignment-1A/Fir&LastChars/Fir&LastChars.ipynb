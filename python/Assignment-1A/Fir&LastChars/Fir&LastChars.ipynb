{
 "cells": [
  {
   "cell_type": "code",
   "execution_count": null,
   "metadata": {},
   "outputs": [],
   "source": [
    "a=input()\n",
    "length=len(a)\n",
    "word=len(a)-1\n",
    "letter=a[word]\n",
    "print(a[0])\n",
    "print(letter)"
   ]
  }
 ],
 "metadata": {
  "language_info": {
   "name": "python"
  },
  "orig_nbformat": 4
 },
 "nbformat": 4,
 "nbformat_minor": 2
}
