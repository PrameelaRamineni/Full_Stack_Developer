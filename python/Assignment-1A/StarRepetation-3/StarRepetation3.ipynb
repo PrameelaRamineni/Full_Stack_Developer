{
 "cells": [
  {
   "cell_type": "code",
   "execution_count": null,
   "metadata": {},
   "outputs": [],
   "source": [
    "word=input()\n",
    "\n",
    "first_character = word[0]\n",
    "word_len = len(word)\n",
    "last_character = word[word_len-1]\n",
    "\n",
    "stars=\"*\" * (word_len-2)\n",
    "\n",
    "result=first_character + stars + last_character\n",
    "\n",
    "print(result)"
   ]
  }
 ],
 "metadata": {
  "language_info": {
   "name": "python"
  },
  "orig_nbformat": 4
 },
 "nbformat": 4,
 "nbformat_minor": 2
}
