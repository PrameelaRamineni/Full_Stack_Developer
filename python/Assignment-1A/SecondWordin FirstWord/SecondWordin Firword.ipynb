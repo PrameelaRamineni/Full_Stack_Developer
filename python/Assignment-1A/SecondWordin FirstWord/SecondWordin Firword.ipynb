{
 "cells": [
  {
   "cell_type": "code",
   "execution_count": null,
   "metadata": {},
   "outputs": [],
   "source": [
    "w1=input()\n",
    "w2=input()\n",
    "w1=len(w1)\n",
    "w2=len(w2)\n",
    "res=w1-w2\n",
    "#print(res)\n",
    "print(w2-1)"
   ]
  }
 ],
 "metadata": {
  "language_info": {
   "name": "python"
  },
  "orig_nbformat": 4
 },
 "nbformat": 4,
 "nbformat_minor": 2
}
