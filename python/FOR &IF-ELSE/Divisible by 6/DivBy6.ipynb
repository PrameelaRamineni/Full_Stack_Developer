{
 "cells": [
  {
   "cell_type": "code",
   "execution_count": null,
   "metadata": {},
   "outputs": [],
   "source": [
    "m=int(input())\n",
    "n=int(input())\n",
    "\n",
    "count=0 \n",
    "div_6=\"\"\n",
    "\n",
    "for num in range(m,n+1):\n",
    "    if num%6==0:\n",
    "        count=count+1 \n",
    "        div_6=div_6+str(num)+\" \"\n",
    "if count==0:\n",
    "    print(\"No Numbers Found\")\n",
    "else:\n",
    "    print(div_6)\n",
    "   "
   ]
  }
 ],
 "metadata": {
  "language_info": {
   "name": "python"
  },
  "orig_nbformat": 4
 },
 "nbformat": 4,
 "nbformat_minor": 2
}
