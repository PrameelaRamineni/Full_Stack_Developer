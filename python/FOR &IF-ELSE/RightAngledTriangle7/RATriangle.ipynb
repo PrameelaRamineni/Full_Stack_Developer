{
 "cells": [
  {
   "cell_type": "code",
   "execution_count": null,
   "metadata": {},
   "outputs": [],
   "source": [
    "N=int(input())\n",
    "\n",
    "for num in range(1,N+1):\n",
    "    spaces=\" \"*(N-num)\n",
    "    \n",
    "    if num==N:\n",
    "        hashes=\"#\"*(num)\n",
    "        print(spaces+hashes)\n",
    "    else:\n",
    "        stars=\"*\"*(num)\n",
    "        print(spaces+stars)"
   ]
  }
 ],
 "metadata": {
  "language_info": {
   "name": "python"
  },
  "orig_nbformat": 4
 },
 "nbformat": 4,
 "nbformat_minor": 2
}
