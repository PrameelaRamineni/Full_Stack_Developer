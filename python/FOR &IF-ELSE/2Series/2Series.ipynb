{
 "cells": [
  {
   "cell_type": "code",
   "execution_count": null,
   "metadata": {},
   "outputs": [],
   "source": [
    "N=int(input())\n",
    "\n",
    "for num in range(1,N+1):\n",
    "    n_term=\"2\"*num\n",
    "    n_term=int(n_term)\n",
    "    print(n_term)"
   ]
  }
 ],
 "metadata": {
  "language_info": {
   "name": "python"
  },
  "orig_nbformat": 4
 },
 "nbformat": 4,
 "nbformat_minor": 2
}
