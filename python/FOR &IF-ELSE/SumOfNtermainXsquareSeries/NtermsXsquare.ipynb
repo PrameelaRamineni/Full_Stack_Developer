{
 "cells": [
  {
   "cell_type": "code",
   "execution_count": null,
   "metadata": {},
   "outputs": [],
   "source": [
    "X=int(input())\n",
    "N=int(input())\n",
    "\n",
    "sum=0 \n",
    "\n",
    "for num in range(1,N+1):\n",
    "    squ=str(X)*num\n",
    "    n_term=int(squ)**2\n",
    "    sum=sum+n_term\n",
    "print(sum)    "
   ]
  }
 ],
 "metadata": {
  "language_info": {
   "name": "python"
  },
  "orig_nbformat": 4
 },
 "nbformat": 4,
 "nbformat_minor": 2
}
