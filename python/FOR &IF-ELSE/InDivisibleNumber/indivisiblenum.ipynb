{
 "cells": [
  {
   "cell_type": "code",
   "execution_count": null,
   "metadata": {},
   "outputs": [],
   "source": [
    "N=int(input())\n",
    "\n",
    "div=False\n",
    "\n",
    "for i in range(2,10):\n",
    "    if(N%i==0):\n",
    "        div=True \n",
    "if div:\n",
    "    print(\"Divisible Number\")\n",
    "else:\n",
    "    print(\"Indivisible Number\")"
   ]
  }
 ],
 "metadata": {
  "language_info": {
   "name": "python"
  },
  "orig_nbformat": 4
 },
 "nbformat": 4,
 "nbformat_minor": 2
}
