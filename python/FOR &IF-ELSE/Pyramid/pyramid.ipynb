{
 "cells": [
  {
   "cell_type": "code",
   "execution_count": null,
   "metadata": {},
   "outputs": [],
   "source": [
    "N=int(input())\n",
    "\n",
    "for i in range(N):\n",
    "    spaces=\"  \"*(N-i-1)\n",
    "    nums=(str(i+1)+\" \")*((2*i)+1)\n",
    "    print(spaces+nums)\n",
    "    "
   ]
  }
 ],
 "metadata": {
  "language_info": {
   "name": "python"
  },
  "orig_nbformat": 4
 },
 "nbformat": 4,
 "nbformat_minor": 2
}
