{
 "cells": [
  {
   "cell_type": "code",
   "execution_count": null,
   "metadata": {},
   "outputs": [],
   "source": [
    "M=int(input())\n",
    "N=int(input())\n",
    "\n",
    "count=0 \n",
    "\n",
    "while count<N:\n",
    "    M=M+1\n",
    "    print(M)\n",
    "    count=count+1 "
   ]
  }
 ],
 "metadata": {
  "language_info": {
   "name": "python"
  },
  "orig_nbformat": 4
 },
 "nbformat": 4,
 "nbformat_minor": 2
}
