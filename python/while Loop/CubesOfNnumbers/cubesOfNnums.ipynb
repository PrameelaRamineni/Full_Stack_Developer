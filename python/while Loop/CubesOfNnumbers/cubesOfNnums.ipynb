{
 "cells": [
  {
   "cell_type": "code",
   "execution_count": null,
   "metadata": {},
   "outputs": [],
   "source": [
    "N=int(input())\n",
    "\n",
    "count=0 \n",
    "\n",
    "while count<N:\n",
    "    \n",
    "    count=count+1\n",
    "    print(count**3)"
   ]
  }
 ],
 "metadata": {
  "language_info": {
   "name": "python"
  },
  "orig_nbformat": 4
 },
 "nbformat": 4,
 "nbformat_minor": 2
}
