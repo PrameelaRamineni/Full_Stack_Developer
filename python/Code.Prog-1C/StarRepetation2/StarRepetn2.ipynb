{
 "cells": [
  {
   "cell_type": "code",
   "execution_count": null,
   "metadata": {},
   "outputs": [],
   "source": [
    "word=input()\n",
    "replace=word[0]+\"*\"*(len(word)-1)\n",
    "\n",
    "print(replace)"
   ]
  }
 ],
 "metadata": {
  "language_info": {
   "name": "python"
  },
  "orig_nbformat": 4
 },
 "nbformat": 4,
 "nbformat_minor": 2
}
