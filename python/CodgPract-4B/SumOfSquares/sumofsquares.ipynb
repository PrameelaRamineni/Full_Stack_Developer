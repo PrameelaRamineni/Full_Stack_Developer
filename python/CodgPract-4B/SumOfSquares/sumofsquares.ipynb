{
 "cells": [
  {
   "cell_type": "code",
   "execution_count": null,
   "metadata": {},
   "outputs": [],
   "source": [
    "A=int(input())\n",
    "B=int(input())\n",
    "\n",
    "sum_squ=A**2 + B**2\n",
    "if sum_squ>=60:\n",
    "    print(\"Greater than or Equal to 60\")\n",
    "else:\n",
    "    print(\"Less than 60\")"
   ]
  }
 ],
 "metadata": {
  "language_info": {
   "name": "python"
  },
  "orig_nbformat": 4
 },
 "nbformat": 4,
 "nbformat_minor": 2
}
