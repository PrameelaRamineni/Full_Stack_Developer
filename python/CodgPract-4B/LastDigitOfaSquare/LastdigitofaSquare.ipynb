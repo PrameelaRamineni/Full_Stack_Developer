{
 "cells": [
  {
   "cell_type": "code",
   "execution_count": null,
   "metadata": {},
   "outputs": [],
   "source": [
    "num=input()\n",
    "l=len(num)\n",
    "num_last_dig=num[l-1]\n",
    "squ=int(num)**2 \n",
    "squ_str=str(squ)\n",
    "n=len(squ_str)\n",
    "last_digit=squ_str[n-1]\n",
    "\n",
    "if (num_last_dig==last_digit):\n",
    "    print(\"Equal\")\n",
    "else:\n",
    "    print(\"Not Equal\")"
   ]
  }
 ],
 "metadata": {
  "language_info": {
   "name": "python"
  },
  "orig_nbformat": 4
 },
 "nbformat": 4,
 "nbformat_minor": 2
}
