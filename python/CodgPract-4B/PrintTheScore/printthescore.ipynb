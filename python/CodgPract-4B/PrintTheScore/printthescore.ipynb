{
 "cells": [
  {
   "cell_type": "code",
   "execution_count": null,
   "metadata": {},
   "outputs": [],
   "source": [
    "D=int(input())\n",
    "\n",
    "if D <=10:\n",
    "    score1=D\n",
    "    print(score1)\n",
    "elif D>=10:\n",
    "    score2=10+(D-10)*3\n",
    "    print(score2)"
   ]
  }
 ],
 "metadata": {
  "language_info": {
   "name": "python"
  },
  "orig_nbformat": 4
 },
 "nbformat": 4,
 "nbformat_minor": 2
}
