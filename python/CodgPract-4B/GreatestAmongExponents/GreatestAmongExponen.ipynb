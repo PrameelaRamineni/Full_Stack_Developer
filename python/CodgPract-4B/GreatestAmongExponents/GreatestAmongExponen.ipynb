{
 "cells": [
  {
   "cell_type": "code",
   "execution_count": null,
   "metadata": {},
   "outputs": [],
   "source": [
    "a=int(input())\n",
    "b=int(input())\n",
    "\n",
    "if (a ** b > b ** a):\n",
    "    print(a ** b)\n",
    "else:\n",
    "    print(b ** a)"
   ]
  }
 ],
 "metadata": {
  "language_info": {
   "name": "python"
  },
  "orig_nbformat": 4
 },
 "nbformat": 4,
 "nbformat_minor": 2
}
