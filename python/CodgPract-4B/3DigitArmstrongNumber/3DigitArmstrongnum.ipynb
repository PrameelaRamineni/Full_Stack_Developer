{
 "cells": [
  {
   "cell_type": "code",
   "execution_count": null,
   "metadata": {},
   "outputs": [],
   "source": [
    "X=int(input())\n",
    "num_str=str(X)\n",
    "a=int(num_str[0])\n",
    "b=int(num_str[1])\n",
    "c=int(num_str[2])\n",
    "N=a ** 3 + b ** 3 + c ** 3 \n",
    "if X==N:\n",
    "    print(\"True\")\n",
    "else:\n",
    "    print(\"False\")"
   ]
  }
 ],
 "metadata": {
  "language_info": {
   "name": "python"
  },
  "orig_nbformat": 4
 },
 "nbformat": 4,
 "nbformat_minor": 2
}
