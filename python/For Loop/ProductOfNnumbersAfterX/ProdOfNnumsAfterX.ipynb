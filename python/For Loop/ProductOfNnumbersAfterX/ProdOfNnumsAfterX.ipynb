{
 "cells": [
  {
   "cell_type": "code",
   "execution_count": null,
   "metadata": {},
   "outputs": [],
   "source": [
    "X=int(input())\n",
    "N=int(input())\n",
    "\n",
    "prod=1 \n",
    "\n",
    "for i in range(N):\n",
    "    prod*=X+i+1 \n",
    "print(prod)    "
   ]
  }
 ],
 "metadata": {
  "language_info": {
   "name": "python"
  },
  "orig_nbformat": 4
 },
 "nbformat": 4,
 "nbformat_minor": 2
}
