{
 "cells": [
  {
   "cell_type": "code",
   "execution_count": null,
   "metadata": {},
   "outputs": [],
   "source": [
    "M=int(input())\n",
    "N=int(input())\n",
    "\n",
    "odd=N-M\n",
    "res=\"\"\n",
    "\n",
    "for ch in range(odd+1):\n",
    "    num=N-ch\n",
    "    is_odd=(num%2 != 0)\n",
    "    if is_odd:\n",
    "        res=res+str(num)+\" \"\n",
    "print(res)        "
   ]
  }
 ],
 "metadata": {
  "language_info": {
   "name": "python"
  },
  "orig_nbformat": 4
 },
 "nbformat": 4,
 "nbformat_minor": 2
}
