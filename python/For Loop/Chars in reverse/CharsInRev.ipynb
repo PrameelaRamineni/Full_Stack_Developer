{
 "cells": [
  {
   "cell_type": "code",
   "execution_count": null,
   "metadata": {},
   "outputs": [],
   "source": [
    "str=input()\n",
    "leng=len(str)\n",
    "\n",
    "for ch in range(1,leng+1):\n",
    "    res=leng-ch\n",
    "    print(str[res])"
   ]
  }
 ],
 "metadata": {
  "language_info": {
   "name": "python"
  },
  "orig_nbformat": 4
 },
 "nbformat": 4,
 "nbformat_minor": 2
}
