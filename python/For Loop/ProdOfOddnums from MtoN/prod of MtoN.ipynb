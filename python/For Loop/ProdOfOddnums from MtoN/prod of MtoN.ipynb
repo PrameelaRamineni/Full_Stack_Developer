{
 "cells": [
  {
   "cell_type": "code",
   "execution_count": null,
   "metadata": {},
   "outputs": [],
   "source": [
    "m=int(input())\n",
    "n=int(input())\n",
    "\n",
    "prod=1\n",
    "\n",
    "for num in range(m,n+1):\n",
    "    if num%2==1:\n",
    "        prod=prod*num\n",
    "print(prod)    "
   ]
  }
 ],
 "metadata": {
  "language_info": {
   "name": "python"
  },
  "orig_nbformat": 4
 },
 "nbformat": 4,
 "nbformat_minor": 2
}
