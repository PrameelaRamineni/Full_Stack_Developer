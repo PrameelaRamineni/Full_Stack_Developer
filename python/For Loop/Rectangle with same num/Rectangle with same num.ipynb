{
 "cells": [
  {
   "cell_type": "code",
   "execution_count": null,
   "metadata": {},
   "outputs": [],
   "source": [
    "m=int(input())\n",
    "n = int(input())\n",
    "\n",
    "for i in range(1, m+1):\n",
    "    pattern = (str(i) + \" \") * n\n",
    "    print(pattern)"
   ]
  }
 ],
 "metadata": {
  "language_info": {
   "name": "python"
  },
  "orig_nbformat": 4
 },
 "nbformat": 4,
 "nbformat_minor": 2
}
