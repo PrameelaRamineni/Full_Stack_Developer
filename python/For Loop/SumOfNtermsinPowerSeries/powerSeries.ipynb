{
 "cells": [
  {
   "cell_type": "code",
   "execution_count": null,
   "metadata": {},
   "outputs": [],
   "source": [
    "X=int(input())\n",
    "N=int(input())\n",
    "\n",
    "sum=0 \n",
    "power=1\n",
    "\n",
    "for num in range(1,N+1):\n",
    "    n_term=(X)**power\n",
    "    power=power+2\n",
    "    sum=sum+n_term\n",
    "print(sum)    "
   ]
  }
 ],
 "metadata": {
  "language_info": {
   "name": "python"
  },
  "orig_nbformat": 4
 },
 "nbformat": 4,
 "nbformat_minor": 2
}
