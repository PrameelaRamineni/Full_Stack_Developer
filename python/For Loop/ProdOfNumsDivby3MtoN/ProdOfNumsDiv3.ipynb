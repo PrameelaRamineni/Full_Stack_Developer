{
 "cells": [
  {
   "cell_type": "code",
   "execution_count": null,
   "metadata": {},
   "outputs": [],
   "source": [
    "m=int(input())\n",
    "n=int(input())\n",
    "\n",
    "prod=1 \n",
    "res=False\n",
    "\n",
    "for i in range(m,n+1):\n",
    "    if i%3==0:\n",
    "        res=True\n",
    "        prod=prod*i\n",
    "if res:\n",
    "    print(prod)\n",
    "else:\n",
    "    print(1)"
   ]
  }
 ],
 "metadata": {
  "language_info": {
   "name": "python"
  },
  "orig_nbformat": 4
 },
 "nbformat": 4,
 "nbformat_minor": 2
}
