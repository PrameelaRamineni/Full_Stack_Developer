{
 "cells": [
  {
   "cell_type": "code",
   "execution_count": null,
   "metadata": {},
   "outputs": [],
   "source": [
    "n=int(input())\n",
    "\n",
    "product=1\n",
    "\n",
    "for number in range(n):\n",
    "    number = int(input())\n",
    "    product = (product * number)\n",
    "    \n",
    "print(product)    "
   ]
  }
 ],
 "metadata": {
  "language_info": {
   "name": "python"
  },
  "orig_nbformat": 4
 },
 "nbformat": 4,
 "nbformat_minor": 2
}
