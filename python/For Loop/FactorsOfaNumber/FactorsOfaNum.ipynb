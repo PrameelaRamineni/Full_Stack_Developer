{
 "cells": [
  {
   "cell_type": "code",
   "execution_count": null,
   "metadata": {},
   "outputs": [],
   "source": [
    "N=int(input())\n",
    "\n",
    "res=\"\"\n",
    "\n",
    "for num in range(1,N+1):\n",
    "    fact=(N%num==0)\n",
    "    if fact:\n",
    "        res=res+str(num)+\" \"\n",
    "print(res)        "
   ]
  }
 ],
 "metadata": {
  "language_info": {
   "name": "python"
  },
  "orig_nbformat": 4
 },
 "nbformat": 4,
 "nbformat_minor": 2
}
