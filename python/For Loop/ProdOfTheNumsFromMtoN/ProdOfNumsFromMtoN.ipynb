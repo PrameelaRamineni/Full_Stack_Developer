{
 "cells": [
  {
   "cell_type": "code",
   "execution_count": null,
   "metadata": {},
   "outputs": [],
   "source": [
    "M=int(input())\n",
    "N=int(input())\n",
    "\n",
    "prod=1\n",
    "\n",
    "for i in range(M,N+1):\n",
    "    prod=prod*i\n",
    "print(prod)"
   ]
  }
 ],
 "metadata": {
  "language_info": {
   "name": "python"
  },
  "orig_nbformat": 4
 },
 "nbformat": 4,
 "nbformat_minor": 2
}
