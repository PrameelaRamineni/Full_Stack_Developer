{
 "cells": [
  {
   "cell_type": "code",
   "execution_count": null,
   "metadata": {},
   "outputs": [],
   "source": [
    "n=int(input())\n",
    "count=1\n",
    "\n",
    "for star in range(n): \n",
    "    print(\"* \" * count)\n",
    "    count=count+1\n",
    "\n",
    "count=1\n",
    "for star in range(n): \n",
    "    print(\"* \" * count)\n",
    "    count=count+1"
   ]
  }
 ],
 "metadata": {
  "language_info": {
   "name": "python"
  },
  "orig_nbformat": 4
 },
 "nbformat": 4,
 "nbformat_minor": 2
}
