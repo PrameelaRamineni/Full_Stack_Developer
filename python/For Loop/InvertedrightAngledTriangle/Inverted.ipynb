{
 "cells": [
  {
   "cell_type": "code",
   "execution_count": null,
   "metadata": {},
   "outputs": [],
   "source": [
    "n=int(input())\n",
    "\n",
    "for star in range(n):\n",
    "  pattern = \"\"\n",
    "  for i in range(1, n-star + 1):\n",
    "    pattern +=  \"* \"\n",
    "  print(pattern)"
   ]
  }
 ],
 "metadata": {
  "language_info": {
   "name": "python"
  },
  "orig_nbformat": 4
 },
 "nbformat": 4,
 "nbformat_minor": 2
}
