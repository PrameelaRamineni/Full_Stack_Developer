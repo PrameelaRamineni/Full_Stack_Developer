{
 "cells": [
  {
   "cell_type": "code",
   "execution_count": null,
   "metadata": {},
   "outputs": [],
   "source": [
    "t=int(input())\n",
    "m=int(input())\n",
    "n=int(input())\n",
    "sum=0\n",
    "\n",
    "for number in range(m,n+1):\n",
    "    if((number%t==0)):\n",
    "        sum=sum+number\n",
    "        \n",
    "print(sum)"
   ]
  }
 ],
 "metadata": {
  "language_info": {
   "name": "python"
  },
  "orig_nbformat": 4
 },
 "nbformat": 4,
 "nbformat_minor": 2
}
