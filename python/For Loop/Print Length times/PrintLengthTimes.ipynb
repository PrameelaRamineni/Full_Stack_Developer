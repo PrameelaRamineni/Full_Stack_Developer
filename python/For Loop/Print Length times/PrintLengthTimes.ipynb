{
 "cells": [
  {
   "cell_type": "code",
   "execution_count": null,
   "metadata": {},
   "outputs": [],
   "source": [
    "str=input()\n",
    "leng=len(str)\n",
    "\n",
    "for i in range(leng):\n",
    "    print(str[0])"
   ]
  }
 ],
 "metadata": {
  "language_info": {
   "name": "python"
  },
  "orig_nbformat": 4
 },
 "nbformat": 4,
 "nbformat_minor": 2
}
