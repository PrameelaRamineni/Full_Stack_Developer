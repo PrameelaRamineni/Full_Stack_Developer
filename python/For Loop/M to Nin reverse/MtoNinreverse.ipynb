{
 "cells": [
  {
   "cell_type": "code",
   "execution_count": null,
   "metadata": {},
   "outputs": [],
   "source": [
    "M=int(input())\n",
    "N=int(input())\n",
    "\n",
    "nums=N-M\n",
    "\n",
    "for i in range(nums+1):\n",
    "    res=N-i\n",
    "    print(res)"
   ]
  }
 ],
 "metadata": {
  "language_info": {
   "name": "python"
  },
  "orig_nbformat": 4
 },
 "nbformat": 4,
 "nbformat_minor": 2
}
