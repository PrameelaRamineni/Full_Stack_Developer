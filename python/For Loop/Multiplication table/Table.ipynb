{
 "cells": [
  {
   "cell_type": "code",
   "execution_count": null,
   "metadata": {},
   "outputs": [],
   "source": [
    "n=int(input())\n",
    "m=1\n",
    "for i in range(1,11):\n",
    "    t=str(i)\n",
    "    m=n*i\n",
    "    m=str(m)\n",
    "    table=(str(n) + \" x \" + t +  \" = \"+ m)\n",
    "    print(table)"
   ]
  }
 ],
 "metadata": {
  "language_info": {
   "name": "python"
  },
  "orig_nbformat": 4
 },
 "nbformat": 4,
 "nbformat_minor": 2
}
