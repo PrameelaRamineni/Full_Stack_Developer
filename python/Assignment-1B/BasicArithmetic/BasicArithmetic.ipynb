{
 "cells": [
  {
   "cell_type": "code",
   "execution_count": null,
   "metadata": {},
   "outputs": [],
   "source": [
    "a=input()\n",
    "b=input()\n",
    "\n",
    "a=int(a)\n",
    "b=int(b)\n",
    "\n",
    "add = a + b \n",
    "sub = a - b \n",
    "mul = a * b\n",
    "\n",
    "print(add)\n",
    "print(sub)\n",
    "print(mul)\n"
   ]
  }
 ],
 "metadata": {
  "language_info": {
   "name": "python"
  },
  "orig_nbformat": 4
 },
 "nbformat": 4,
 "nbformat_minor": 2
}
