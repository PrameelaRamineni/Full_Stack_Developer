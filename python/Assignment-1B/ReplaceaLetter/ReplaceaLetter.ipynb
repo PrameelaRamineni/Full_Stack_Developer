{
 "cells": [
  {
   "cell_type": "code",
   "execution_count": null,
   "metadata": {},
   "outputs": [],
   "source": [
    "word=input()\n",
    "i=int(input())\n",
    "c=input()\n",
    "\n",
    "first=word[:i]\n",
    "second=word[i+1:]\n",
    "\n",
    "result = first + c + second\n",
    "\n",
    "print(result)\n"
   ]
  }
 ],
 "metadata": {
  "language_info": {
   "name": "python"
  },
  "orig_nbformat": 4
 },
 "nbformat": 4,
 "nbformat_minor": 2
}
