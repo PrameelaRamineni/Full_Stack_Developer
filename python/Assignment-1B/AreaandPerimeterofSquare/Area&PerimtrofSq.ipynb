{
 "cells": [
  {
   "cell_type": "code",
   "execution_count": null,
   "metadata": {},
   "outputs": [],
   "source": [
    "side=input()\n",
    "side=int(side)\n",
    "\n",
    "aos=side * side\n",
    "pos=4 * side\n",
    "\n",
    "print(\"Area of the square is: \" +str(aos))\n",
    "print(\"Perimeter of the square is: \" +str(pos))"
   ]
  }
 ],
 "metadata": {
  "language_info": {
   "name": "python"
  },
  "orig_nbformat": 4
 },
 "nbformat": 4,
 "nbformat_minor": 2
}
