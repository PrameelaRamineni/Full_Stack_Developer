{
 "cells": [
  {
   "cell_type": "code",
   "execution_count": null,
   "metadata": {},
   "outputs": [],
   "source": [
    "num=int(input())\n",
    "\n",
    "a=num * 3\n",
    "multiple = num % 3 == 0\n",
    "\n",
    "if multiple:\n",
    "    print(a)\n",
    "else:\n",
    "    print(num + num)"
   ]
  }
 ],
 "metadata": {
  "language_info": {
   "name": "python"
  },
  "orig_nbformat": 4
 },
 "nbformat": 4,
 "nbformat_minor": 2
}
