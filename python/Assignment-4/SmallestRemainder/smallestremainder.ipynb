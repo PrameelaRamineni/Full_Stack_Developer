{
 "cells": [
  {
   "cell_type": "code",
   "execution_count": null,
   "metadata": {},
   "outputs": [],
   "source": [
    "a=int(input())\n",
    "b=int(input())\n",
    "\n",
    "c=a % b \n",
    "d=b % a \n",
    "\n",
    "if c>d:\n",
    "    print(d)\n",
    "else:\n",
    "    print(c)"
   ]
  }
 ],
 "metadata": {
  "language_info": {
   "name": "python"
  },
  "orig_nbformat": 4
 },
 "nbformat": 4,
 "nbformat_minor": 2
}
