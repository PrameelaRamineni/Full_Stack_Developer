{
 "cells": [
  {
   "cell_type": "code",
   "execution_count": null,
   "metadata": {},
   "outputs": [],
   "source": [
    "N=input()\n",
    "N=int(N)\n",
    "\n",
    "year=int(N/365)\n",
    "a=int(N%365)\n",
    "week=int(a/7)\n",
    "days=a%7\n",
    "\n",
    "print(year)\n",
    "print(week)\n",
    "print(days)\n"
   ]
  }
 ],
 "metadata": {
  "language_info": {
   "name": "python"
  },
  "orig_nbformat": 4
 },
 "nbformat": 4,
 "nbformat_minor": 2
}
