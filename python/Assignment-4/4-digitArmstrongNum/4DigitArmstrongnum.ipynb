{
 "cells": [
  {
   "cell_type": "code",
   "execution_count": null,
   "metadata": {},
   "outputs": [],
   "source": [
    "n=input()\n",
    "l=len(n)\n",
    "\n",
    "n1=n[0]\n",
    "n2=n[1]\n",
    "n3=n[2]\n",
    "n4=n[3]\n",
    "\n",
    "sum=(int(n1)**l)+(int(n2)**l)+(int(n3)**l)+(int(n4)**l)\n",
    "if (sum)==int(n):\n",
    "    print(\"Armstrong Number\")\n",
    "else:\n",
    "    print(\"Not an Armstrong Number\")"
   ]
  }
 ],
 "metadata": {
  "language_info": {
   "name": "python"
  },
  "orig_nbformat": 4
 },
 "nbformat": 4,
 "nbformat_minor": 2
}
