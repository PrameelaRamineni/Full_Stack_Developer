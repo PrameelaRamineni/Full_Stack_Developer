{
 "cells": [
  {
   "cell_type": "code",
   "execution_count": null,
   "metadata": {},
   "outputs": [],
   "source": [
    "n=int(input())\n",
    "\n",
    "if ((n%5==0)and(n%7==0))or(n<7):\n",
    "    print(n)\n",
    "else:\n",
    "    remain_5=(n%5)\n",
    "    print(remain_5)\n",
    "    remain_7=(n%7)\n",
    "    print(remain_7)"
   ]
  }
 ],
 "metadata": {
  "language_info": {
   "name": "python"
  },
  "orig_nbformat": 4
 },
 "nbformat": 4,
 "nbformat_minor": 2
}
