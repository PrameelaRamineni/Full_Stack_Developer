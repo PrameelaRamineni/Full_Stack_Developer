{
 "cells": [
  {
   "cell_type": "code",
   "execution_count": null,
   "metadata": {},
   "outputs": [],
   "source": [
    "def total_balls(N, pole_heights):\n",
    "    total = 0\n",
    "    for i in range(1, N):\n",
    "        total += min(pole_heights[i-1], pole_heights[i])\n",
    "\n",
    "    print(total)\n",
    "\n",
    "# Reading input\n",
    "N = int(input())\n",
    "pole_heights = list(map(int, input().split()))\n",
    "# Calculating and printing the result\n",
    "total_balls(N, pole_heights)"
   ]
  }
 ],
 "metadata": {
  "language_info": {
   "name": "python"
  }
 },
 "nbformat": 4,
 "nbformat_minor": 2
}
