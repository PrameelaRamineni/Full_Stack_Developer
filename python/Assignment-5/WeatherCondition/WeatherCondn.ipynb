{
 "cells": [
  {
   "cell_type": "code",
   "execution_count": null,
   "metadata": {},
   "outputs": [],
   "source": [
    "T=float(input())\n",
    "\n",
    "if T<0:\n",
    "    print(\"Freezing weather\")\n",
    "elif 0<=T<10:\n",
    "    print(\"Very Cold weather\")\n",
    "elif 10<=T<20:\n",
    "    print(\"Cold weather\")\n",
    "elif 20<=T<30:\n",
    "    print(\"Normal\")\n",
    "elif 30<=T<40:\n",
    "    print(\"Hot\")\n",
    "elif T>=40:\n",
    "    print(\"Very Hot\")"
   ]
  }
 ],
 "metadata": {
  "language_info": {
   "name": "python"
  },
  "orig_nbformat": 4
 },
 "nbformat": 4,
 "nbformat_minor": 2
}
