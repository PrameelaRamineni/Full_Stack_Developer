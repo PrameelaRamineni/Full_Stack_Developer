{
 "cells": [
  {
   "cell_type": "code",
   "execution_count": null,
   "metadata": {},
   "outputs": [],
   "source": [
    "month=int(input())\n",
    "\n",
    "if (month==11 or month==12 or month==1):\n",
    "    print(\"Winter\")\n",
    "elif (month==2 or month==3):\n",
    "    print(\"Spring\")\n",
    "elif (month==4 or month==5 or month==6):\n",
    "    print(\"Summer\")   \n",
    "elif (month==7 or month==8):\n",
    "    print(\"Rainy\")\n",
    "elif (month==9 or month==10):\n",
    "    print(\"Autumn\")"
   ]
  }
 ],
 "metadata": {
  "language_info": {
   "name": "python"
  },
  "orig_nbformat": 4
 },
 "nbformat": 4,
 "nbformat_minor": 2
}
