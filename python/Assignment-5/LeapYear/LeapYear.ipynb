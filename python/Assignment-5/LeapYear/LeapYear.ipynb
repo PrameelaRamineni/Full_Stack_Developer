{
 "cells": [
  {
   "cell_type": "code",
   "execution_count": null,
   "metadata": {},
   "outputs": [],
   "source": [
    "Y=int(input())\n",
    "\n",
    "if Y%4 == 0 and Y%100!=0:\n",
    "   print(\"True\")\n",
    " \n",
    "elif (Y%100==0):\n",
    "    print(\"False\")\n",
    "elif (Y%400==0):\n",
    "    print(\"True\")\n",
    "else:\n",
    "    print(\"False\")"
   ]
  }
 ],
 "metadata": {
  "language_info": {
   "name": "python"
  },
  "orig_nbformat": 4
 },
 "nbformat": 4,
 "nbformat_minor": 2
}
