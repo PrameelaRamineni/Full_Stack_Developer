{
 "cells": [
  {
   "cell_type": "code",
   "execution_count": null,
   "metadata": {},
   "outputs": [],
   "source": [
    "word=input()\n",
    "location=int(input())\n",
    "length=len(word)\n",
    "\n",
    "first=word[:location]\n",
    "second=word[location+1:]\n",
    "skip_letters=first + second\n",
    "\n",
    "print(skip_letters)\n"
   ]
  }
 ],
 "metadata": {
  "language_info": {
   "name": "python"
  },
  "orig_nbformat": 4
 },
 "nbformat": 4,
 "nbformat_minor": 2
}
