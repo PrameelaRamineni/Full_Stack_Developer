{
 "cells": [
  {
   "cell_type": "code",
   "execution_count": null,
   "metadata": {},
   "outputs": [],
   "source": [
    "word=input()\n",
    "\n",
    "first_characters=word[0] + word[1]\n",
    "word_len=len(word)\n",
    "last_characters=word[word_len-2] + word[word_len-1]\n",
    "\n",
    "stars=\"*\" * (word_len-4)\n",
    "result=first_characters + stars + last_characters\n",
    "\n",
    "print(result)"
   ]
  }
 ],
 "metadata": {
  "language_info": {
   "name": "python"
  },
  "orig_nbformat": 4
 },
 "nbformat": 4,
 "nbformat_minor": 2
}
