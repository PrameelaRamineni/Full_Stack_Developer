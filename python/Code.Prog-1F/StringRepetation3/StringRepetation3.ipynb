{
 "cells": [
  {
   "cell_type": "code",
   "execution_count": null,
   "metadata": {},
   "outputs": [],
   "source": [
    "word = input()\n",
    "\n",
    "n = int(input())\n",
    "\n",
    "length_of_string = len(word)\n",
    "\n",
    "start_index = length_of_string - 3\n",
    "\n",
    "substring = word[start_index:]\n",
    "\n",
    "print(substring * n )"
   ]
  }
 ],
 "metadata": {
  "language_info": {
   "name": "python"
  },
  "orig_nbformat": 4
 },
 "nbformat": 4,
 "nbformat_minor": 2
}
