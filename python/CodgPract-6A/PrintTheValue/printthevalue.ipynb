{
 "cells": [
  {
   "cell_type": "code",
   "execution_count": null,
   "metadata": {},
   "outputs": [],
   "source": [
    "str=input()\n",
    "\n",
    "str_len=len(str)\n",
    "last_index=str_len-1\n",
    "\n",
    "num=str[:last_index]\n",
    "num=int(num)\n",
    "\n",
    "last_char=str[last_index]\n",
    "\n",
    "if last_char==\"T\":\n",
    "    val=num*10 \n",
    "elif last_char==\"H\":\n",
    "    val=num*100 \n",
    "elif last_char==\"K\":\n",
    "    val=num*1000\n",
    "print(val)    \n"
   ]
  }
 ],
 "metadata": {
  "language_info": {
   "name": "python"
  },
  "orig_nbformat": 4
 },
 "nbformat": 4,
 "nbformat_minor": 2
}
