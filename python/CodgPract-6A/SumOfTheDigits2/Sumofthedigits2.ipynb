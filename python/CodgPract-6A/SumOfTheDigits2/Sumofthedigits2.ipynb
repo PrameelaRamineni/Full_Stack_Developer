{
 "cells": [
  {
   "cell_type": "code",
   "execution_count": null,
   "metadata": {},
   "outputs": [],
   "source": [
    "num=input()\n",
    "first=(len(num)==1)\n",
    "second=(len(num)==2)\n",
    "third=(len(num)==3)\n",
    "\n",
    "if first:\n",
    "    print(num)\n",
    "elif second:\n",
    "    first=int(num[0])\n",
    "    second=int(num[1])\n",
    "    print(first+second)\n",
    "elif third:\n",
    "    first=int(num[0])\n",
    "    second=int(num[1])\n",
    "    third=int(num[2])\n",
    "    print(first+second+third)\n",
    "else:\n",
    "    first=int(num[0])\n",
    "    second=int(num[1])\n",
    "    third=int(num[2])\n",
    "    fourth=int(num[3])\n",
    "    print(first+second+third+fourth)\n",
    "    "
   ]
  }
 ],
 "metadata": {
  "language_info": {
   "name": "python"
  },
  "orig_nbformat": 4
 },
 "nbformat": 4,
 "nbformat_minor": 2
}
