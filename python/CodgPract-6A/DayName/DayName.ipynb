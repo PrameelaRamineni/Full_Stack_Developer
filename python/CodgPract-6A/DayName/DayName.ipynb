{
 "cells": [
  {
   "cell_type": "code",
   "execution_count": null,
   "metadata": {},
   "outputs": [],
   "source": [
    "D=int(input())\n",
    "\n",
    "if D==1:\n",
    "    print(\"Monday\")\n",
    "if D==2:\n",
    "    print(\"Tuesday\")\n",
    "elif D==3:\n",
    "    print(\"Wednesday\")\n",
    "elif D==4:\n",
    "    print(\"Thursday\")\n",
    "elif D==5:\n",
    "    print(\"Friday\")\n",
    "elif D==6:\n",
    "    print(\"Saturday\")\n",
    "elif D==7:\n",
    "    print(\"Sunday\")"
   ]
  }
 ],
 "metadata": {
  "language_info": {
   "name": "python"
  },
  "orig_nbformat": 4
 },
 "nbformat": 4,
 "nbformat_minor": 2
}
