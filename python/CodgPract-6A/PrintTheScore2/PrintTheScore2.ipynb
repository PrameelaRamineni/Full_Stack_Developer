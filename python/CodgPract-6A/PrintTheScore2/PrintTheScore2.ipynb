{
 "cells": [
  {
   "cell_type": "code",
   "execution_count": null,
   "metadata": {},
   "outputs": [],
   "source": [
    "D=int(input())\n",
    "\n",
    "first_50=50*3 \n",
    "\n",
    "if D<=50:\n",
    "    score=D*3\n",
    "else:\n",
    "    rem_dist=D-50\n",
    "    score_rem_dist=rem_dist*5 \n",
    "    score=first_50+score_rem_dist\n",
    "print(score)    "
   ]
  }
 ],
 "metadata": {
  "language_info": {
   "name": "python"
  },
  "orig_nbformat": 4
 },
 "nbformat": 4,
 "nbformat_minor": 2
}
