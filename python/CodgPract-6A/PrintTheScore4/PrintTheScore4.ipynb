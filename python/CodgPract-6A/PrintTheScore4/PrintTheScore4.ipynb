{
 "cells": [
  {
   "cell_type": "code",
   "execution_count": null,
   "metadata": {},
   "outputs": [],
   "source": [
    "dist=int(input())\n",
    "\n",
    "bonus=50\n",
    "\n",
    "first_40=40*2\n",
    "next_20=20*4\n",
    "next_60=60*6\n",
    "if dist<=40:\n",
    "    score=dist*2 \n",
    "elif dist<=60:\n",
    "    rem_dist=dist-40\n",
    "    rem_dist_score=rem_dist*4\n",
    "    score=first_40+rem_dist_score\n",
    "elif dist<=120:\n",
    "    rem_dist=dist-60\n",
    "    rem_dist_score=rem_dist*6\n",
    "    score=first_40+next_20+rem_dist_score  \n",
    "else:\n",
    "    rem_dist=dist-120\n",
    "    rem_dist_score=rem_dist*8 \n",
    "    score=first_40+next_20+next_60+rem_dist_score\n",
    "    \n",
    "score=score+bonus\n",
    "print(score)"
   ]
  }
 ],
 "metadata": {
  "language_info": {
   "name": "python"
  },
  "orig_nbformat": 4
 },
 "nbformat": 4,
 "nbformat_minor": 2
}
