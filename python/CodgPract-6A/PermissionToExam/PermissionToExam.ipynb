{
 "cells": [
  {
   "cell_type": "code",
   "execution_count": null,
   "metadata": {},
   "outputs": [],
   "source": [
    "first=input()\n",
    "second=input()\n",
    "length=len(first)\n",
    "first=first[:length-1]\n",
    "first=int(first)\n",
    "\n",
    "if (first>=75):\n",
    "    print(\"Allowed to write exam\")\n",
    "elif (first<75 and second==\"Y\"):\n",
    "    print(\"Allowed to write exam\")\n",
    "elif (first<75 and second==\"N\"):\n",
    "    print(\"Cannot write exam\")"
   ]
  }
 ],
 "metadata": {
  "language_info": {
   "name": "python"
  },
  "orig_nbformat": 4
 },
 "nbformat": 4,
 "nbformat_minor": 2
}
