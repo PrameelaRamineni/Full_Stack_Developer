{
 "cells": [
  {
   "cell_type": "code",
   "execution_count": null,
   "metadata": {},
   "outputs": [],
   "source": [
    "D=int(input())\n",
    "\n",
    "bonus=30 \n",
    "\n",
    "first_20=20*2 \n",
    "next_40=40*4 \n",
    "\n",
    "if D<=20:\n",
    "    score=D*2 \n",
    "elif D<=60:\n",
    "    rem_dist=D-20 \n",
    "    score_rem_dist=rem_dist*4 \n",
    "    score=first_20+score_rem_dist\n",
    "else:\n",
    "    rem_dist=D-60\n",
    "    score_rem_dist=rem_dist*6 \n",
    "    score=first_20+next_40+score_rem_dist\n",
    "score=score+bonus\n",
    "print(score)"
   ]
  }
 ],
 "metadata": {
  "language_info": {
   "name": "python"
  },
  "orig_nbformat": 4
 },
 "nbformat": 4,
 "nbformat_minor": 2
}
