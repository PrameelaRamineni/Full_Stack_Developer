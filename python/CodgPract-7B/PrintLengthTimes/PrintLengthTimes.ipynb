{
 "cells": [
  {
   "cell_type": "code",
   "execution_count": null,
   "metadata": {},
   "outputs": [],
   "source": [
    "str=input()\n",
    "count=0 \n",
    "leng=len(str)\n",
    "first_char=str[0]\n",
    "\n",
    "while count<leng:\n",
    "    print(first_char)\n",
    "    count=count+1"
   ]
  }
 ],
 "metadata": {
  "language_info": {
   "name": "python"
  },
  "orig_nbformat": 4
 },
 "nbformat": 4,
 "nbformat_minor": 2
}
