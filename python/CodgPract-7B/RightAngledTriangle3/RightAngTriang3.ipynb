{
 "cells": [
  {
   "cell_type": "code",
   "execution_count": null,
   "metadata": {},
   "outputs": [],
   "source": [
    "N=int(input())\n",
    "\n",
    "count=1 \n",
    "\n",
    "while count<=N:\n",
    "    if count==N:\n",
    "        rows=\"+ \"*count\n",
    "        print(rows)\n",
    "    else:\n",
    "        rows=\"* \"*count\n",
    "        print(rows)\n",
    "    count=count+1    \n",
    "    "
   ]
  }
 ],
 "metadata": {
  "language_info": {
   "name": "python"
  },
  "orig_nbformat": 4
 },
 "nbformat": 4,
 "nbformat_minor": 2
}
