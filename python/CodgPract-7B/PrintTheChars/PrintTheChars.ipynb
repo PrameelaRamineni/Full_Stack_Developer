{
 "cells": [
  {
   "cell_type": "code",
   "execution_count": null,
   "metadata": {},
   "outputs": [],
   "source": [
    "str=input()\n",
    "\n",
    "count=0 \n",
    "leng=len(str)\n",
    "\n",
    "while count<leng:\n",
    "    char=str[count]\n",
    "    print(char)\n",
    "    count=count+1"
   ]
  }
 ],
 "metadata": {
  "language_info": {
   "name": "python"
  },
  "orig_nbformat": 4
 },
 "nbformat": 4,
 "nbformat_minor": 2
}
