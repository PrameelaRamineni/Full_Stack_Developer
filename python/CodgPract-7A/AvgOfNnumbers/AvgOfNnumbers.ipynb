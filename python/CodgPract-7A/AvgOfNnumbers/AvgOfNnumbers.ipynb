{
 "cells": [
  {
   "cell_type": "code",
   "execution_count": null,
   "metadata": {},
   "outputs": [],
   "source": [
    "N=int(input())\n",
    "\n",
    "sum=0\n",
    "count=0\n",
    "\n",
    "while count<N:\n",
    "    count=count+1\n",
    "    sum=sum+count\n",
    "avg=sum/N \n",
    "print(avg)\n",
    "    "
   ]
  }
 ],
 "metadata": {
  "language_info": {
   "name": "python"
  },
  "orig_nbformat": 4
 },
 "nbformat": 4,
 "nbformat_minor": 2
}
