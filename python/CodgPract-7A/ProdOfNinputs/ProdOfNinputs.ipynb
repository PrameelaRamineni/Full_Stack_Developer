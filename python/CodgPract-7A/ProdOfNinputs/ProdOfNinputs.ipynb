{
 "cells": [
  {
   "cell_type": "code",
   "execution_count": null,
   "metadata": {},
   "outputs": [],
   "source": [
    "n=int(input())\n",
    "\n",
    "product=1\n",
    "count=0\n",
    "\n",
    "while count < n:\n",
    "    number = int(input())\n",
    "    product = (product * number)\n",
    "    count = (count + 1)\n",
    "print(product)    "
   ]
  }
 ],
 "metadata": {
  "language_info": {
   "name": "python"
  },
  "orig_nbformat": 4
 },
 "nbformat": 4,
 "nbformat_minor": 2
}
