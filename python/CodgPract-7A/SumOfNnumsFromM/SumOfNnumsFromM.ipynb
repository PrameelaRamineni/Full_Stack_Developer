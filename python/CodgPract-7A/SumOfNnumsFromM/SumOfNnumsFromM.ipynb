{
 "cells": [
  {
   "cell_type": "code",
   "execution_count": null,
   "metadata": {},
   "outputs": [],
   "source": [
    "M=int(input())\n",
    "N=int(input())\n",
    "\n",
    "count=0\n",
    "sum=0\n",
    "\n",
    "while count<N:\n",
    "    num=count+M\n",
    "    count=count+1\n",
    "    sum=sum+num\n",
    "print(sum)"
   ]
  }
 ],
 "metadata": {
  "language_info": {
   "name": "python"
  },
  "orig_nbformat": 4
 },
 "nbformat": 4,
 "nbformat_minor": 2
}
