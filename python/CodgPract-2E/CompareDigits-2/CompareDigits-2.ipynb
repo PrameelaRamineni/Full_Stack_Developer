{
 "cells": [
  {
   "cell_type": "code",
   "execution_count": null,
   "metadata": {},
   "outputs": [],
   "source": [
    "one=input()\n",
    "\n",
    "above=int(one) > 25\n",
    "\n",
    "first=one[0]\n",
    "second=one[1]\n",
    "\n",
    "first=int(first)\n",
    "second=int(second)\n",
    "\n",
    "greater=first > second\n",
    "result=above and greater\n",
    "\n",
    "print(result)\n",
    "\n",
    "\n",
    "\n",
    "\n",
    "\n"
   ]
  }
 ],
 "metadata": {
  "language_info": {
   "name": "python"
  },
  "orig_nbformat": 4
 },
 "nbformat": 4,
 "nbformat_minor": 2
}
