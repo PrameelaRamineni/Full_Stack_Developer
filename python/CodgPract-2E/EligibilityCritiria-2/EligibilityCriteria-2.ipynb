{
 "cells": [
  {
   "cell_type": "code",
   "execution_count": null,
   "metadata": {},
   "outputs": [],
   "source": [
    "m=int(input())\n",
    "p=int(input())\n",
    "c=int(input())\n",
    "\n",
    "result=(m+p >=100 and m+c >=100) and (m+p+c >=180)\n",
    "\n",
    "print(result)"
   ]
  }
 ],
 "metadata": {
  "language_info": {
   "name": "python"
  },
  "orig_nbformat": 4
 },
 "nbformat": 4,
 "nbformat_minor": 2
}
