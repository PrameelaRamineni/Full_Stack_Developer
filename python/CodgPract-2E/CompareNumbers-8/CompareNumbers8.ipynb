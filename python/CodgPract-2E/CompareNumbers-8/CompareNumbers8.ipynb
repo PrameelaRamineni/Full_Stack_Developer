{
 "cells": [
  {
   "cell_type": "code",
   "execution_count": null,
   "metadata": {},
   "outputs": [],
   "source": [
    "n=input()\n",
    "first=int(n[0])\n",
    "second=int(n[1])\n",
    "third=int(n[2])\n",
    "\n",
    "print((first==1 or second==1 or third==1) and (first+second+third<12) and third==5)"
   ]
  }
 ],
 "metadata": {
  "language_info": {
   "name": "python"
  },
  "orig_nbformat": 4
 },
 "nbformat": 4,
 "nbformat_minor": 2
}
