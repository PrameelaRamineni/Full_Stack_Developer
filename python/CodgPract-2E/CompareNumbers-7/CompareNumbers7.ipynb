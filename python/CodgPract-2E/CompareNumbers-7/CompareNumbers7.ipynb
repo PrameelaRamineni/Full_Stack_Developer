{
 "cells": [
  {
   "cell_type": "code",
   "execution_count": null,
   "metadata": {},
   "outputs": [],
   "source": [
    "n=input()\n",
    "first=int(n[:2])\n",
    "second=int(n[-2:])\n",
    "print(first==19 and (second>30 and second<60))"
   ]
  }
 ],
 "metadata": {
  "language_info": {
   "name": "python"
  },
  "orig_nbformat": 4
 },
 "nbformat": 4,
 "nbformat_minor": 2
}
