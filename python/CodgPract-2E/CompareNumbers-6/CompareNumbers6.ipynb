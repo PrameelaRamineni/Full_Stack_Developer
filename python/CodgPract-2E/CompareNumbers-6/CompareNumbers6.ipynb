{
 "cells": [
  {
   "cell_type": "code",
   "execution_count": null,
   "metadata": {},
   "outputs": [],
   "source": [
    "n=input()\n",
    "first=int(n[0])\n",
    "second=int(n[1])\n",
    "third=int(n[2])\n",
    "\n",
    "print((first>4 and second>4 and third>4) or first==6)"
   ]
  }
 ],
 "metadata": {
  "language_info": {
   "name": "python"
  },
  "orig_nbformat": 4
 },
 "nbformat": 4,
 "nbformat_minor": 2
}
