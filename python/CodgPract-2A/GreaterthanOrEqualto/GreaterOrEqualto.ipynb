{
 "cells": [
  {
   "cell_type": "code",
   "execution_count": null,
   "metadata": {},
   "outputs": [],
   "source": [
    "m=float(input())\n",
    "n=float(input())\n",
    "if m>=n:\n",
    "    print(\"A >= B is True\")\n",
    "else:\n",
    "    print(\"A >= B is False\")"
   ]
  }
 ],
 "metadata": {
  "language_info": {
   "name": "python"
  },
  "orig_nbformat": 4
 },
 "nbformat": 4,
 "nbformat_minor": 2
}
