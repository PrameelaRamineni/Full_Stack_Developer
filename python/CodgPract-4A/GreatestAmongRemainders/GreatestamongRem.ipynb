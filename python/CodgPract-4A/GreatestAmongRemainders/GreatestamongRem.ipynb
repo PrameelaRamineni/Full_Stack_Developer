{
 "cells": [
  {
   "cell_type": "code",
   "execution_count": null,
   "metadata": {},
   "outputs": [],
   "source": [
    "n=int(input())\n",
    "\n",
    "remain1=n%4 \n",
    "remain2=n%5 \n",
    "\n",
    "if remain2 > remain1:\n",
    "    print(remain2)\n",
    "else:\n",
    "    print(remain1)"
   ]
  }
 ],
 "metadata": {
  "language_info": {
   "name": "python"
  },
  "orig_nbformat": 4
 },
 "nbformat": 4,
 "nbformat_minor": 2
}
