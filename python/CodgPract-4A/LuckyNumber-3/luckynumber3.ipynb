{
 "cells": [
  {
   "cell_type": "code",
   "execution_count": null,
   "metadata": {},
   "outputs": [],
   "source": [
    "num=int(input())\n",
    "\n",
    "rem_of2=num%2 \n",
    "rem_of3=num%3 \n",
    "\n",
    "luckynumber=False \n",
    "if (rem_of2 == 0) and (rem_of3 == 0):\n",
    "    print(\"Number is divisible by 6\")\n",
    "    \n",
    "    luckynumber=True \n",
    "if (rem_of3 == 0) and (not luckynumber):\n",
    "    print(\"Number is divisible by 3\")\n",
    "    \n",
    "    luckynumber=True \n",
    "if (rem_of2 == 0) and (not luckynumber):\n",
    "    print(\"Number is divisible by 2\") \n",
    "    \n",
    "    luckynumber=True \n",
    "if not luckynumber:\n",
    "    print(\"Number is not divisible by 2, 3 or 6\")\n",
    "    "
   ]
  }
 ],
 "metadata": {
  "language_info": {
   "name": "python"
  },
  "orig_nbformat": 4
 },
 "nbformat": 4,
 "nbformat_minor": 2
}
