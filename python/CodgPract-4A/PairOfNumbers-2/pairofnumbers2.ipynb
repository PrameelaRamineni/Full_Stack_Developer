{
 "cells": [
  {
   "cell_type": "code",
   "execution_count": null,
   "metadata": {},
   "outputs": [],
   "source": [
    "A=int(input())\n",
    "B=int(input())\n",
    "\n",
    "is_first=A%3 == 0\n",
    "is_second=B%3==0 \n",
    "\n",
    "is_f_12=A%12==0 \n",
    "is_s_12=B%12==0 \n",
    "is_div_3=is_first and is_second \n",
    "is_div_12=is_f_12 or is_s_12\n",
    "\n",
    "res=is_div_3 and is_div_12 \n",
    "if res:\n",
    "    print(\"Pair\")\n",
    "else:\n",
    "    print(\"Not a Pair\")"
   ]
  }
 ],
 "metadata": {
  "language_info": {
   "name": "python"
  },
  "orig_nbformat": 4
 },
 "nbformat": 4,
 "nbformat_minor": 2
}
