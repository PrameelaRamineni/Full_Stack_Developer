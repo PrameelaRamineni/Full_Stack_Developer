{
 "cells": [
  {
   "cell_type": "code",
   "execution_count": null,
   "metadata": {},
   "outputs": [],
   "source": [
    "s=input()\n",
    "\n",
    "first=s[:3]\n",
    "second=s[3:]\n",
    "second=int(second)\n",
    "\n",
    "cond1=first==\"NXT\"\n",
    "cond2=second%2==0 or second%7==0 \n",
    "\n",
    "if cond1 and cond2:\n",
    "    print(\"Special String\")\n",
    "else:\n",
    "    print(\"Not a Special String\")"
   ]
  }
 ],
 "metadata": {
  "language_info": {
   "name": "python"
  },
  "orig_nbformat": 4
 },
 "nbformat": 4,
 "nbformat_minor": 2
}
