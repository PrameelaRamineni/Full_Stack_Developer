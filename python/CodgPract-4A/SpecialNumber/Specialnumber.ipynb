{
 "cells": [
  {
   "cell_type": "code",
   "execution_count": null,
   "metadata": {},
   "outputs": [],
   "source": [
    "num=int(input())\n",
    "\n",
    "num_str=str(num)\n",
    "multiple= num % 7 == 0\n",
    "\n",
    "first=int(num_str[0])\n",
    "second=int(num_str[1])\n",
    "\n",
    "is_first=first==7\n",
    "is_second=second==7\n",
    "\n",
    "sum_of=(first+second) == 7\n",
    "\n",
    "anyone=is_first or is_second or sum_of\n",
    "condition=multiple or anyone or sum_of\n",
    "\n",
    "if condition:\n",
    "    print(\"Special Number\")\n",
    "else:\n",
    "    print(\"Normal Number\")"
   ]
  }
 ],
 "metadata": {
  "language_info": {
   "name": "python"
  },
  "orig_nbformat": 4
 },
 "nbformat": 4,
 "nbformat_minor": 2
}
