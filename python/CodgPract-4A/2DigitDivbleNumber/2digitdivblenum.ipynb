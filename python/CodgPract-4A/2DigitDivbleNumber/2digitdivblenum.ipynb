{
 "cells": [
  {
   "cell_type": "code",
   "execution_count": null,
   "metadata": {},
   "outputs": [],
   "source": [
    "n=int(input())\n",
    "n=str(n)\n",
    "\n",
    "first=n[0]\n",
    "second=n[1]\n",
    "n=int(n)\n",
    "\n",
    "if (n%int(first)==0 and n%int(second)==0):\n",
    "    print(n*2)\n",
    "else:\n",
    "    print(n)"
   ]
  }
 ],
 "metadata": {
  "language_info": {
   "name": "python"
  },
  "orig_nbformat": 4
 },
 "nbformat": 4,
 "nbformat_minor": 2
}
