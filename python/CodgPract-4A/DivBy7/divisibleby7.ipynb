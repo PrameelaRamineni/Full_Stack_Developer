{
 "cells": [
  {
   "cell_type": "code",
   "execution_count": null,
   "metadata": {},
   "outputs": [],
   "source": [
    "n=int(input())\n",
    "\n",
    "if (n%7==0):\n",
    "    print(\"Divisible by Seven\")\n",
    "else:\n",
    "    print(\"Not Divisible by Seven\")"
   ]
  }
 ],
 "metadata": {
  "language_info": {
   "name": "python"
  },
  "orig_nbformat": 4
 },
 "nbformat": 4,
 "nbformat_minor": 2
}
