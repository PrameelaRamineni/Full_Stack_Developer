{
 "cells": [
  {
   "cell_type": "code",
   "execution_count": null,
   "metadata": {},
   "outputs": [],
   "source": [
    "num=int(input())\n",
    "\n",
    "multiple=(num % 9 == 0)\n",
    "\n",
    "num_str=str(num)\n",
    "\n",
    "first=int(num_str[0])\n",
    "second=int(num_str[1])\n",
    "\n",
    "is_first=first==9\n",
    "is_second=second==9\n",
    "\n",
    "anyone=is_first or is_second\n",
    "condition=multiple or anyone\n",
    "\n",
    "if condition:\n",
    "    print(\"Lucky Number\")\n",
    "else:\n",
    "    print(\"Unlucky Number\")"
   ]
  }
 ],
 "metadata": {
  "language_info": {
   "name": "python"
  },
  "orig_nbformat": 4
 },
 "nbformat": 4,
 "nbformat_minor": 2
}
