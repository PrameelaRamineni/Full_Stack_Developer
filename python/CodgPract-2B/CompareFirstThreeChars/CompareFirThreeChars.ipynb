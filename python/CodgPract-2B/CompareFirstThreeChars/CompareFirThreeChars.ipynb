{
 "cells": [
  {
   "cell_type": "code",
   "execution_count": null,
   "metadata": {},
   "outputs": [],
   "source": [
    "first=input()\n",
    "second=input()\n",
    "\n",
    "first_name=first[0:3]\n",
    "second_name=second[0:3]\n",
    "\n",
    "result=(first_name == second_name)\n",
    "print(result)"
   ]
  }
 ],
 "metadata": {
  "language_info": {
   "name": "python"
  },
  "orig_nbformat": 4
 },
 "nbformat": 4,
 "nbformat_minor": 2
}
